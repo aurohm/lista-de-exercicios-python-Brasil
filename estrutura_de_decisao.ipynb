{
  "nbformat": 4,
  "nbformat_minor": 0,
  "metadata": {
    "colab": {
      "name": "estrutura-de-decisao.ipynb",
      "provenance": [],
      "authorship_tag": "ABX9TyPajsC1zU05lSJrn2PDiwX+",
      "include_colab_link": true
    },
    "kernelspec": {
      "name": "python3",
      "display_name": "Python 3"
    },
    "language_info": {
      "name": "python"
    }
  },
  "cells": [
    {
      "cell_type": "markdown",
      "metadata": {
        "id": "view-in-github",
        "colab_type": "text"
      },
      "source": [
        "<a href=\"https://colab.research.google.com/github/ovelton/Lista-de-Exercicios-Python-Brasil/blob/main/estrutura_de_decisao.ipynb\" target=\"_parent\"><img src=\"https://colab.research.google.com/assets/colab-badge.svg\" alt=\"Open In Colab\"/></a>"
      ]
    },
    {
      "cell_type": "markdown",
      "source": [
        "##Estrutura de Decisão"
      ],
      "metadata": {
        "id": "qpyN03QMr8Rj"
      }
    },
    {
      "cell_type": "markdown",
      "source": [
        "1. Faça um Programa que peça dois números e imprima o maior deles."
      ],
      "metadata": {
        "id": "hnK83fD6sFrm"
      }
    },
    {
      "cell_type": "code",
      "execution_count": null,
      "metadata": {
        "id": "K4DZ1fLWrnPJ"
      },
      "outputs": [],
      "source": [
        "num1 = int(input('Digite o primeiro número: '))\n",
        "num2 = int(input('Digite o segundo número: '))\n",
        "\n",
        "if num1 > num2:\n",
        "  print(f'O maior número é {num1}')\n",
        "else:\n",
        "  print(f'O maior número é {num2}')"
      ]
    },
    {
      "cell_type": "markdown",
      "source": [
        "2. Faça um Programa que peça um valor e mostre na tela se o valor é positivo ou negativo."
      ],
      "metadata": {
        "id": "xBkB0nsaubvR"
      }
    },
    {
      "cell_type": "code",
      "source": [
        "num = int(input('Digite um número: '))\n",
        "\n",
        "if num > 0:\n",
        "  print(f'O número {num} é positivo')\n",
        "else:\n",
        "  print(f'O número {num} é negativo')"
      ],
      "metadata": {
        "id": "IgJJtJghr7-3"
      },
      "execution_count": null,
      "outputs": []
    },
    {
      "cell_type": "markdown",
      "source": [
        "3. Faça um Programa que verifique se uma letra digitada é \"F\" ou \"M\". Conforme a letra escrever: F - Feminino, M - Masculino, Sexo Inválido."
      ],
      "metadata": {
        "id": "HBXD5heBwFtQ"
      }
    },
    {
      "cell_type": "code",
      "source": [
        "print('Qual é o seu sexo?')\n",
        "\n",
        "sexo = input(\"Digite M para masculino e F para feminino: \").upper()\n",
        "\n",
        "if sexo == 'M':\n",
        "  print(\"M - Masculino\")\n",
        "elif sexo == 'F':\n",
        "  print('F - Feminino')\n",
        "else:\n",
        "  print('Sexo inváldo')"
      ],
      "metadata": {
        "id": "izZYVgoDu3mv"
      },
      "execution_count": null,
      "outputs": []
    },
    {
      "cell_type": "markdown",
      "source": [
        "4. Faça um Programa que verifique se uma letra digitada é vogal ou consoante."
      ],
      "metadata": {
        "id": "LFCToUKzWGCI"
      }
    },
    {
      "cell_type": "code",
      "source": [
        "letra = input('Digite uma letra: ').lower()\n",
        "\n",
        "if letra == 'a':\n",
        "  print(f'A letra \"{letra}\" é uma vogal')\n",
        "elif letra == 'e':\n",
        "  print(f'A letra \"{letra}\" é uma vogal')\n",
        "elif letra ==  'i':\n",
        "  print(f'A letra \"{letra}\" é uma vogal')\n",
        "elif letra == 'o':\n",
        "  print(f'A letra \"{letra}\" é uma vogal')\n",
        "elif letra == 'u':\n",
        "  print(f'A letra \"{letra}\" é uma vogal')\n",
        "else:\n",
        "  print(f'A letra \"{letra}\" é uma cosoante')"
      ],
      "metadata": {
        "id": "n8iGDiVJZ5YG"
      },
      "execution_count": null,
      "outputs": []
    },
    {
      "cell_type": "markdown",
      "source": [
        "5. Faça um programa para a leitura de duas notas parciais de um aluno. O programa deve calcular a média alcançada por aluno e apresentar:\n",
        "\n",
        "• A mensagem \"Aprovado\", se a média alcançada for maior ou igual a sete;\n",
        "\n",
        "• A mensagem \"Reprovado\", se a média for menor do que sete;\n",
        "\n",
        "• A mensagem \"Aprovado com Distinção\", se a média for igual a dez."
      ],
      "metadata": {
        "id": "_2eR8ss-GyAL"
      }
    },
    {
      "cell_type": "code",
      "source": [
        "nota_1 = float(input('Insira a primeira nota: '))\n",
        "nota_2 = float(input('Insira a segunda nota: '))\n",
        "\n",
        "media = (nota_1 + nota_2)/2\n",
        "print(f'Sua média foi {media}')\n",
        "\n",
        "if media == 10.0:\n",
        "  print('Aprovado com Distinção')\n",
        "elif media >= 7.0:\n",
        "  print('Aprovado')\n",
        "else:\n",
        "  print('Reprovado')"
      ],
      "metadata": {
        "id": "3b5U9mbaxjfM"
      },
      "execution_count": null,
      "outputs": []
    },
    {
      "cell_type": "markdown",
      "source": [
        "6. Faça um Programa que leia três números e mostre o maior deles."
      ],
      "metadata": {
        "id": "DsJPrqxidfQN"
      }
    },
    {
      "cell_type": "code",
      "source": [
        "numero_1 = 1245\n",
        "numero_2 = 121\n",
        "numero_3 = 33333\n",
        "\n",
        "maior_numero = numero_1\n",
        "\n",
        "if numero_2 > maior_numero:\n",
        "  maior_numero = numero_2\n",
        "elif numero_3 > maior_numero:\n",
        "  maior_numero = numero_3\n",
        "\n",
        "print(f'O número {maior_numero} é maior')"
      ],
      "metadata": {
        "id": "QA1L20Bi15AA"
      },
      "execution_count": null,
      "outputs": []
    },
    {
      "cell_type": "markdown",
      "source": [
        "7. Faça um Programa que leia três números e mostre o maior e o menor deles."
      ],
      "metadata": {
        "id": "ktn7rpU95Dku"
      }
    },
    {
      "cell_type": "code",
      "source": [
        "numero_1 = 1\n",
        "numero_2 = 12166\n",
        "numero_3 = 8\n",
        "\n",
        "# encontrando o maior número\n",
        "\n",
        "maior_numero = numero_1\n",
        "if numero_2 > numero_1 and numero_2 > numero_3:\n",
        "  maior_numero = numero_2\n",
        "elif numero_3 > numero_1 and numero_3 > numero_2:\n",
        "  maior_numero = numero_3\n",
        "\n",
        "print(f'O número {maior_numero} é o maior')\n",
        "\n",
        "# encontrando o menor número\n",
        "\n",
        "menor_numero = numero_1\n",
        "if numero_2 < numero_1 and numero_2 < numero_3:\n",
        "  menor_numero = numero_2\n",
        "elif numero_3 < numero_1 and numero_3 < numero_2:\n",
        "  menor_numero = numero_3\n",
        "\n",
        "print(f'O número {menor_numero} é o menor')"
      ],
      "metadata": {
        "id": "K7g7EoNn5JKc"
      },
      "execution_count": null,
      "outputs": []
    },
    {
      "cell_type": "markdown",
      "source": [
        "8. Faça um programa que pergunte o preço de três produtos e informe qual produto você deve comprar, sabendo que a decisão é sempre pelo mais barato."
      ],
      "metadata": {
        "id": "hLspEUd97C53"
      }
    },
    {
      "cell_type": "code",
      "source": [
        "produto_1 = 12\n",
        "produto_2 = 15\n",
        "produto_3 = 8\n",
        "\n",
        "menor_valor = produto_1\n",
        "\n",
        "if produto_2 < produto_1 and produto_2 < produto_3:\n",
        "  menor_valor = produto_2\n",
        "elif produto_3 < produto_1 and produto_3 < produto_2:\n",
        "  menor_valor = produto_3\n",
        "\n",
        "print(f'O produto que deve ser comprado é o de R${menor_valor}')"
      ],
      "metadata": {
        "id": "6os-vM6H7COR"
      },
      "execution_count": null,
      "outputs": []
    },
    {
      "cell_type": "markdown",
      "source": [
        "8. Faça um Programa que leia três números e mostre-os em ordem decrescente."
      ],
      "metadata": {
        "id": "HBjDAGs0_FX7"
      }
    },
    {
      "cell_type": "code",
      "source": [
        "numero_1 = 4\n",
        "numero_2 = 7\n",
        "numero_3 = 38\n",
        "\n",
        "# encontrando o maior número\n",
        "if numero_1 > numero_2 and numero_1 > numero_3:\n",
        "  maior_numero = numero_1\n",
        "elif numero_2 > numero_1 and numero_2 > numero_3:\n",
        "  maior_numero = numero_2\n",
        "elif numero_3 > numero_1 and numero_3 > numero_2:\n",
        "  maior_numero = numero_3\n",
        "\n",
        "# encontrando o menor número\n",
        "if numero_1 < numero_2 and numero_1 < numero_3:\n",
        "  menor_numero = numero_1\n",
        "elif numero_2 < numero_1 and numero_2 < numero_3:\n",
        "  menor_numero = numero_2\n",
        "elif numero_3 < numero_1 and numero_3 < numero_2:\n",
        "  menor_numero = numero_3\n",
        "\n",
        "# encontrando o número do meio\n",
        "if menor_numero < numero_1 < maior_numero:\n",
        "  num_do_meio = numero_1\n",
        "elif menor_numero < numero_2 < maior_numero:\n",
        "  num_do_meio = numero_2\n",
        "elif menor_numero < numero_3 < maior_numero:\n",
        "  num_do_meio = numero_3\n",
        "\n",
        "print(maior_numero)\n",
        "print(num_do_meio)\n",
        "print(menor_numero)"
      ],
      "metadata": {
        "id": "IucevSZw_JCr"
      },
      "execution_count": null,
      "outputs": []
    },
    {
      "cell_type": "markdown",
      "source": [
        "10. Faça um Programa que pergunte em que turno você estuda. Peça para digitar M-matutino ou V-Vespertino ou N- Noturno. Imprima a mensagem \"Bom Dia!\", \"Boa Tarde!\" ou \"Boa Noite!\" ou \"Valor Inválido!\", conforme o caso."
      ],
      "metadata": {
        "id": "Y5S2PvXlDu3M"
      }
    },
    {
      "cell_type": "code",
      "source": [
        "print('Em que turno você estuda?')\n",
        "turno = input('Digite M - Matutino, V - Vespertino - N - Noturno: ').upper()\n",
        "\n",
        "if turno == 'M':\n",
        "  print('Bom Dia!')\n",
        "elif turno == 'V':\n",
        "  print('Boa Tarde!')\n",
        "elif turno == \"N\":\n",
        "  print('Boa Noite!')\n",
        "else:\n",
        "  print('Valor inválido!')"
      ],
      "metadata": {
        "id": "Adtb0V95D1rV"
      },
      "execution_count": null,
      "outputs": []
    },
    {
      "cell_type": "markdown",
      "source": [
        "11. As Organizações Tabajara resolveram dar um aumento de salário aos seus colaboradores e lhe contraram para desenvolver o programa que calculará os reajustes.\n",
        "\n",
        "Faça um programa que recebe o salário de um colaborador e o reajuste segundo o seguinte critério, baseado no salário atual:\n",
        "\n",
        "\n",
        "\n",
        "```\n",
        "salários até R$ 280,00 (incluindo) : aumento de 20%\n",
        "\n",
        "salários entre R$ 280,00 e R$ 700,00 : aumento de 15%\n",
        "\n",
        "salários entre R$ 700,00 e R$ 1500,00 : aumento de 10%\n",
        "\n",
        "salários de R$ 1500,00 em diante : aumento de 5% Após o aumento ser realizado, informe na tela:\n",
        "\n",
        "o salário antes do reajuste;\n",
        "\n",
        "o percentual de aumento aplicado;\n",
        "\n",
        "o valor do aumento;\n",
        "\n",
        "o novo salário, após o aumento.\n",
        "```\n",
        "\n"
      ],
      "metadata": {
        "id": "SkpzN3ZGEz4h"
      }
    },
    {
      "cell_type": "code",
      "source": [
        "salario_atual = 2700 # salário antes do reajuste\n",
        "#taxa de aumento para cada intervalo de salário\n",
        "taxa_de_aumento_20 = 1.2\n",
        "taxa_de_aumento_15 = 1.15\n",
        "taxa_de_aumento_10 = 1.10\n",
        "taxa_de_aumento_05 = 1.05\n",
        "\n",
        "if 0 < salario_atual <= 280: # verifica se o salário está no intervalo de até 280\n",
        "  salario_ajustado = salario_atual * taxa_de_aumento_20 # calcula o reajuste utilizando a taxa de aumento respectiva para o intervalo\n",
        "elif 280 < salario_atual <= 700: # segue a mesma lógica\n",
        "  salario_ajustado = salario_atual * taxa_de_aumento_15\n",
        "elif 700 < salario_atual <= 1500:\n",
        "  salario_ajustado = salario_atual * taxa_de_aumento_10\n",
        "elif salario_atual > 1500:\n",
        "  salario_ajustado = salario_atual * taxa_de_aumento_05\n",
        "\n",
        "print(f'O salário antes do reajuste é de R${float(salario_atual)}')\n",
        "taxa_de_aumento = round(((salario_ajustado/salario_atual) - 1) * 100,0) # extrai o valor da taxa de aumento\n",
        "print(f'O percentual de aumento aplicado foi de {taxa_de_aumento}%')\n",
        "valor_aumentado = salario_ajustado - salario_atual\n",
        "print(f'O valor do aumento foi de R${round(valor_aumentado,0)}')\n",
        "print(f'O novo salário após o aumento foi de R${round(salario_ajustado,0)}')"
      ],
      "metadata": {
        "id": "gtL2DABJE2MB"
      },
      "execution_count": null,
      "outputs": []
    },
    {
      "cell_type": "markdown",
      "source": [
        "19. Faça um Programa que leia um número inteiro menor que 1000 e imprima a quantidade de centenas, dezenas e unidades do mesmo.\n",
        "Observando os termos no plural a colocação do \"e\", da vírgula entre outros. Exemplo:\n",
        "\n",
        "326 = 3 centenas, 2 dezenas e 6 unidades\n",
        "12 = 1 dezena e 2 unidades Testar com: 326, 300, 100, 320, 310,305, 301, 101, 311, 111, 25, 20, 10, 21, 11, 1, 7 e 16"
      ],
      "metadata": {
        "id": "jv_89nu0URHw"
      }
    },
    {
      "cell_type": "code",
      "source": [
        "numero = 999\n",
        "centenas_str = dezenas_str = unidades_str = ''\n",
        "\"\"\"\"\"criar uma variável para receber as partes númericas - 3 partes num. (100 \n",
        "até 999) incrementar a cada vez que uma parte númerica é identificada concatenar\n",
        "as strings\"\"\"\n",
        "partes_numericas = 0\n",
        "\n",
        "#bloco da centena - definicação se é em singular ou plural\n",
        "centenas_int, numero = divmod(numero, 100) #função divmode(numerador,denominador)\n",
        "if centenas_int == 1:\n",
        "  centenas_str = '1 centena' #incrementa +1 sempre que uma parte do n. é idenfificada\n",
        "  partes_numericas +=1\n",
        "elif centenas_int > 1:\n",
        "  centenas_str = f'{centenas_int} centenas'\n",
        "  partes_numericas +=1\n",
        "\n",
        "#bloco da dezena - definição se é em singular ou plural\n",
        "dezenas_int, numero = divmod(numero, 10)\n",
        "if dezenas_int == 1:\n",
        "  dezenas_str = '1 dezena'\n",
        "  partes_numericas +=1\n",
        "elif dezenas_int > 1:\n",
        "  dezenas_str = f'{dezenas_int} dezenas'\n",
        "  partes_numericas +=1\n",
        "\n",
        "#bloco da unidade - definição se é em singular ou plural\n",
        "if numero == 1:\n",
        "  unidades_str = '1 unidade'\n",
        "  partes_numericas +=1\n",
        "elif numero > 1:\n",
        "  unidades_str = f'{numero} unidades'\n",
        "  partes_numericas +=1\n",
        "\n",
        "#formatação para o usuário final\n",
        "if partes_numericas == 0: #caso seja o número 0\n",
        "  print(f'Número 0 não possui dezenas, centenas ou unidades')\n",
        "elif partes_numericas == 1: #caso seja somente uma parte númerica\n",
        "  print(centenas_str + dezenas_str + unidades_str)\n",
        "elif partes_numericas == 3: #caso seja as três partes númericas\n",
        "  print(f'{centenas_str}, {dezenas_str} e {unidades_str}')\n",
        "else:\n",
        "  if centenas_str != '': #se a parte da centena não estiver vazia\n",
        "    outra_parte = dezenas_str + unidades_str #concatena a str dezena e unidade\n",
        "    print(f'{centenas_str} e {outra_parte}')\n",
        "  else: #dezenas_str != '':\n",
        "    print(f'{dezenas_str} e {unidades_str}')"
      ],
      "metadata": {
        "id": "sjNbsmQPUOxH"
      },
      "execution_count": null,
      "outputs": []
    },
    {
      "cell_type": "markdown",
      "source": [
        "21. Faça um Programa para um caixa eletrônico. O programa deverá perguntar ao usuário a valor do saque e depois informar quantas notas de cada valor serão fornecidas. As notas disponíveis serão as de 1, 5, 10, 50 e 100 reais. O valor mínimo é de 10 reais e o máximo de 600 reais. O programa não deve se preocupar com a quantidade de notas existentes na máquina.\n",
        "\n",
        "Exemplo 1: Para sacar a quantia de 256 reais, o programa fornece duas notas de 100, uma nota de 50, uma nota de 5 e uma nota de 1;\n",
        "Exemplo 2: Para sacar a quantia de 399 reais, o programa fornece três notas de 100, uma nota de 50, quatro notas de 10, uma nota de 5 e quatro notas de 1.\n"
      ],
      "metadata": {
        "id": "ZwOFb7IKjwUZ"
      }
    },
    {
      "cell_type": "code",
      "source": [
        "v_saque = int(input('Insira o valor a ser sacado: '))\n",
        "if v_saque < 10:\n",
        "  v_saque = 0\n",
        "  print('O valor mínimo de saque é de R$10,00')\n",
        "elif v_saque > 600:\n",
        "  v_saque = 0\n",
        "  print('O valor máximo de saque é de R$600,00')\n",
        "\n",
        "nota_1 = nota_5 = nota_10 = nota_50 = nota_100 = 0\n",
        "\n",
        "nota_100, v_saque = divmod(v_saque,100)\n",
        "nota_50, v_saque = divmod(v_saque,50)\n",
        "nota_10, v_saque = divmod(v_saque,10)\n",
        "nota_5, v_saque = divmod(v_saque,5)\n",
        "nota_1 = v_saque\n",
        "\n",
        "if nota_100 > 0:\n",
        "  print(f'{nota_100} nota(s) de R$100,00')\n",
        "\n",
        "if nota_50 > 0:\n",
        "  print(f'{nota_50} nota(s) de R$50,00')\n",
        "\n",
        "if nota_50 > 0:\n",
        "  print(f'{nota_50} nota(s) de R$50,00')\n",
        "\n",
        "if nota_10 > 0:\n",
        "  print(f'{nota_10} nota(s) de R$10,00')\n",
        "\n",
        "if nota_5 > 0:\n",
        "  print(f'{nota_5} nota(s) de R$5,00')\n",
        "\n",
        "if nota_1 > 0:\n",
        "  print(f'{nota_1} nota(s) de R$1,00')"
      ],
      "metadata": {
        "id": "BB5p49bGjugd"
      },
      "execution_count": null,
      "outputs": []
    },
    {
      "cell_type": "code",
      "source": [
        "nome = 'Wellivelton'\n",
        "i = 0\n",
        "while i < len(nome):\n",
        "  print(nome[i])\n",
        "  i += 1"
      ],
      "metadata": {
        "colab": {
          "base_uri": "https://localhost:8080/"
        },
        "id": "xfyTAez9qPGq",
        "outputId": "498072d7-757b-453a-ab4a-e1a6aaa04863"
      },
      "execution_count": null,
      "outputs": [
        {
          "output_type": "stream",
          "name": "stdout",
          "text": [
            "W\n",
            "e\n",
            "l\n",
            "l\n",
            "i\n",
            "v\n",
            "e\n",
            "l\n",
            "t\n",
            "o\n",
            "n\n"
          ]
        }
      ]
    }
  ]
}