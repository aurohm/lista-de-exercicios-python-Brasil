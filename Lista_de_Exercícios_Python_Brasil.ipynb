{
  "nbformat": 4,
  "nbformat_minor": 0,
  "metadata": {
    "colab": {
      "name": "Lista de Exercícios de Estrutura Sequencial.ipynb",
      "provenance": [],
      "authorship_tag": "ABX9TyOqKiC3QF1DgPs55VfpCsrd",
      "include_colab_link": true
    },
    "kernelspec": {
      "name": "python3",
      "display_name": "Python 3"
    },
    "language_info": {
      "name": "python"
    }
  },
  "cells": [
    {
      "cell_type": "markdown",
      "metadata": {
        "id": "view-in-github",
        "colab_type": "text"
      },
      "source": [
        "<a href=\"https://colab.research.google.com/github/ovelton/Estrutura-Sequencial-Python-BR/blob/main/Lista_de_Exerc%C3%ADcios_Python_Brasil.ipynb\" target=\"_parent\"><img src=\"https://colab.research.google.com/assets/colab-badge.svg\" alt=\"Open In Colab\"/></a>"
      ]
    },
    {
      "cell_type": "markdown",
      "source": [
        "## LISTA DE EXERCÍCIOS PYTHON BRASIL"
      ],
      "metadata": {
        "id": "j497M5oeeX1I"
      }
    },
    {
      "cell_type": "markdown",
      "source": [
        "#Estrutura Sequêncial"
      ],
      "metadata": {
        "id": "uWEYmwrtUayT"
      }
    },
    {
      "cell_type": "markdown",
      "source": [
        "1. Faça um Programa que mostre a mensagem \"Alo mundo\" na tela.\n",
        " "
      ],
      "metadata": {
        "id": "G7r51RMEegGm"
      }
    },
    {
      "cell_type": "code",
      "source": [
        "print('Alo mundo')"
      ],
      "metadata": {
        "id": "iLa4t4gOefm-"
      },
      "execution_count": null,
      "outputs": []
    },
    {
      "cell_type": "markdown",
      "source": [
        "2. Faça um Programa que peça um número e então mostre a mensagem O número informado foi [número].\n"
      ],
      "metadata": {
        "id": "ZlCUBt6he3QA"
      }
    },
    {
      "cell_type": "code",
      "source": [
        "número = input('Digite um número: ')\n",
        "print(f'O número informado foi: {número}')"
      ],
      "metadata": {
        "id": "qCWCfMAneqHd"
      },
      "execution_count": null,
      "outputs": []
    },
    {
      "cell_type": "markdown",
      "source": [
        "3. Faça um Programa que peça dois números e imprima a soma."
      ],
      "metadata": {
        "id": "ERAxHTR_lnsW"
      }
    },
    {
      "cell_type": "code",
      "source": [
        "num1 = int(input('Digite o primeiro número: '))\n",
        "num2 = int(input('Digite o segundo número: '))\n",
        "soma = num1 + num2\n",
        "print(f'A soma dos dois números é {soma}')"
      ],
      "metadata": {
        "id": "rnWj-So0fXdG"
      },
      "execution_count": null,
      "outputs": []
    },
    {
      "cell_type": "markdown",
      "source": [
        "4. Faça um Programa que peça as 4 notas bimestrais e mostre a média."
      ],
      "metadata": {
        "id": "1D2RXfNSrFMR"
      }
    },
    {
      "cell_type": "code",
      "source": [
        "nota1 = int(input('Digite a nota do primeiro bimestre: '))\n",
        "nota2 = int(input('Digite a nota do segundo bimestre: '))\n",
        "nota3 = int(input('Digite a nota do terceiro bimestre: '))\n",
        "nota4 = int(input('Digite a nota do quarto bimestre: '))\n",
        "soma = nota1 + nota2 + nota3 + nota4\n",
        "media = soma / 4\n",
        "print(f'A média é {media}')"
      ],
      "metadata": {
        "id": "XGHI8ddfrHa_"
      },
      "execution_count": null,
      "outputs": []
    },
    {
      "cell_type": "markdown",
      "source": [
        "5. Faça um Programa que converta metros para centímetros."
      ],
      "metadata": {
        "id": "dMWePumZBQwQ"
      }
    },
    {
      "cell_type": "code",
      "source": [
        "valor_metro = int(input('Insira o valor em metros: '))\n",
        "valor_cm = valor_metro * 100\n",
        "print(f'O valor em centímetros é {valor_cm} cm')"
      ],
      "metadata": {
        "id": "EDA0Fpk9BSUP"
      },
      "execution_count": null,
      "outputs": []
    },
    {
      "cell_type": "markdown",
      "source": [
        "6. Faça um Programa que peça o raio de um círculo, calcule e mostre sua área."
      ],
      "metadata": {
        "id": "lCkXJ-FwDJOB"
      }
    },
    {
      "cell_type": "code",
      "source": [
        "import math\n",
        "\n",
        "r = int(input('Insira o valor do raio do círculo: '))\n",
        "pi = math.pi\n",
        "a = pi*(r**2)\n",
        "print(f'A área do círculo é {a} m²')"
      ],
      "metadata": {
        "id": "0HYuG2_wCjMB"
      },
      "execution_count": null,
      "outputs": []
    },
    {
      "cell_type": "markdown",
      "source": [
        "7. Faça um Programa que calcule a área de um quadrado, em seguida mostre o dobro desta área para o usuário.\n"
      ],
      "metadata": {
        "id": "BJMI3K4Cg5mO"
      }
    },
    {
      "cell_type": "code",
      "source": [
        "L = int(input('Insira o valora do lado do quadrado: '))\n",
        "A = L*L\n",
        "print(f'O dobro da área do quadrado é { A*2}')\n"
      ],
      "metadata": {
        "id": "w_dvTG81g7c0"
      },
      "execution_count": null,
      "outputs": []
    },
    {
      "cell_type": "markdown",
      "source": [
        "8. Faça um Programa que pergunte quanto você ganha por hora e o número de horas trabalhadas no mês. Calcule e mostre o total do seu salário no referido mês.\n"
      ],
      "metadata": {
        "id": "7Osn2uZSqait"
      }
    },
    {
      "cell_type": "code",
      "source": [
        "sal = int(input('Valor recebido por hora: '))\n",
        "hmes = int(input('Horas trabalhada por mês: '))\n",
        "salmes = sal*hmes\n",
        "print(f'O seu salário no mês é de R${salmes}')"
      ],
      "metadata": {
        "id": "WNezUjbuqcGg"
      },
      "execution_count": null,
      "outputs": []
    },
    {
      "cell_type": "markdown",
      "source": [
        "9. Faça um Programa que peça a temperatura em graus Fahrenheit, transforme e mostre a temperatura em graus Celsius. C = 5 * ((F-32) / 9).\n"
      ],
      "metadata": {
        "id": "emlPFe_PQmVG"
      }
    },
    {
      "cell_type": "code",
      "source": [
        "F = int(input('Insira a temperatura em graus Fahrenheit: '))\n",
        "C = 5 * ((F - 32) / 9)\n",
        "print(f'A temperatura em graus Fahrenheit é {C}')"
      ],
      "metadata": {
        "id": "q2O59kJMr-bj"
      },
      "execution_count": null,
      "outputs": []
    },
    {
      "cell_type": "markdown",
      "source": [
        "10. Faça um Programa que peça a temperatura em graus Celsius, transforme e mostre em graus Fahrenheit."
      ],
      "metadata": {
        "id": "4QW44tJhdCWs"
      }
    },
    {
      "cell_type": "code",
      "source": [
        "C = int(input('Insira a temperatura em graus Celsius: '))\n",
        "F = (C*(9/5)) + 32\n",
        "print(f'A temperatura em graus Fahrenheit é {F}')"
      ],
      "metadata": {
        "id": "YuMqqvwmRC-f"
      },
      "execution_count": null,
      "outputs": []
    },
    {
      "cell_type": "code",
      "source": [
        ""
      ],
      "metadata": {
        "id": "bS7k6B7oeK98"
      },
      "execution_count": null,
      "outputs": []
    }
  ]
}
