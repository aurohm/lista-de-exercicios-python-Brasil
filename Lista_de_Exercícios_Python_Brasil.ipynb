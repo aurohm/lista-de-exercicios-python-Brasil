{
  "nbformat": 4,
  "nbformat_minor": 0,
  "metadata": {
    "colab": {
      "name": "Lista de Exercícios Python Brasil.ipynb",
      "provenance": [],
      "authorship_tag": "ABX9TyNwQ9fCY4gRYIsVIbYL2cQH",
      "include_colab_link": true
    },
    "kernelspec": {
      "name": "python3",
      "display_name": "Python 3"
    },
    "language_info": {
      "name": "python"
    }
  },
  "cells": [
    {
      "cell_type": "markdown",
      "metadata": {
        "id": "view-in-github",
        "colab_type": "text"
      },
      "source": [
        "<a href=\"https://colab.research.google.com/github/ovelton/Estrutura-Sequencial-Python-BR/blob/main/Lista_de_Exerc%C3%ADcios_Python_Brasil.ipynb\" target=\"_parent\"><img src=\"https://colab.research.google.com/assets/colab-badge.svg\" alt=\"Open In Colab\"/></a>"
      ]
    },
    {
      "cell_type": "markdown",
      "source": [
        "## LISTA DE EXERCÍCIOS PYTHON BRASIL"
      ],
      "metadata": {
        "id": "j497M5oeeX1I"
      }
    },
    {
      "cell_type": "markdown",
      "source": [
        "#Estrutura Sequêncial"
      ],
      "metadata": {
        "id": "uWEYmwrtUayT"
      }
    },
    {
      "cell_type": "markdown",
      "source": [
        "1. Faça um Programa que mostre a mensagem \"Alo mundo\" na tela.\n",
        " "
      ],
      "metadata": {
        "id": "G7r51RMEegGm"
      }
    },
    {
      "cell_type": "code",
      "source": [
        "print('Alo mundo')"
      ],
      "metadata": {
        "colab": {
          "base_uri": "https://localhost:8080/"
        },
        "id": "iLa4t4gOefm-",
        "outputId": "131da942-3d34-484c-ce4c-df417ea405fb"
      },
      "execution_count": null,
      "outputs": [
        {
          "output_type": "stream",
          "name": "stdout",
          "text": [
            "Alo mundo\n"
          ]
        }
      ]
    },
    {
      "cell_type": "markdown",
      "source": [
        "2. Faça um Programa que peça um número e então mostre a mensagem O número informado foi [número].\n"
      ],
      "metadata": {
        "id": "ZlCUBt6he3QA"
      }
    },
    {
      "cell_type": "code",
      "source": [
        "número = input('Digite um número: ')\n",
        "print('O número informado foi:',número)"
      ],
      "metadata": {
        "colab": {
          "base_uri": "https://localhost:8080/"
        },
        "id": "qCWCfMAneqHd",
        "outputId": "3bb1d359-3138-4a76-af81-bc4f33da815f"
      },
      "execution_count": null,
      "outputs": [
        {
          "output_type": "stream",
          "name": "stdout",
          "text": [
            "Digite um número: 5\n",
            "O número informado foi: 5\n"
          ]
        }
      ]
    },
    {
      "cell_type": "markdown",
      "source": [
        "3. Faça um Programa que peça dois números e imprima a soma."
      ],
      "metadata": {
        "id": "ERAxHTR_lnsW"
      }
    },
    {
      "cell_type": "code",
      "source": [
        "num1 = int(input('Digite o primeiro número: '))\n",
        "num2 = int(input('Digite o segundo número: '))\n",
        "soma = num1 + num2\n",
        "print('A soma dos dois números é', soma)"
      ],
      "metadata": {
        "id": "rnWj-So0fXdG",
        "colab": {
          "base_uri": "https://localhost:8080/"
        },
        "outputId": "ea393ecf-e34a-4a31-b812-60ac79a6b767"
      },
      "execution_count": 7,
      "outputs": [
        {
          "output_type": "stream",
          "name": "stdout",
          "text": [
            "Digite o primeiro número: 1\n",
            "Digite o segundo número: 1\n",
            "A soma dos dois números é 2\n"
          ]
        }
      ]
    },
    {
      "cell_type": "markdown",
      "source": [
        "4. Faça um Programa que peça as 4 notas bimestrais e mostre a média."
      ],
      "metadata": {
        "id": "1D2RXfNSrFMR"
      }
    },
    {
      "cell_type": "code",
      "source": [
        "nota1 = int(input('Digite a nota do primeiro bimestre: '))\n",
        "nota2 = int(input('Digite a nota do segundo bimestre: '))\n",
        "nota3 = int(input('Digite a nota do terceiro bimestre: '))\n",
        "nota4 = int(input('Digite a nota do quarto bimestre: '))\n",
        "soma = nota1 + nota2 + nota3 + nota4\n",
        "media = soma / 4\n",
        "print('A média é', media)"
      ],
      "metadata": {
        "colab": {
          "base_uri": "https://localhost:8080/"
        },
        "id": "XGHI8ddfrHa_",
        "outputId": "59e5fe7c-841d-40b7-c7d1-45efebbab1d3"
      },
      "execution_count": 10,
      "outputs": [
        {
          "output_type": "stream",
          "name": "stdout",
          "text": [
            "Digite a nota do primeiro bimestre: 7\n",
            "Digite a nota do segundo bimestre: 6\n",
            "Digite a nota do terceiro bimestre: 9\n",
            "Digite a nota do quarto bimestre: 8\n",
            "A média é 7.5\n"
          ]
        }
      ]
    },
    {
      "cell_type": "code",
      "source": [
        ""
      ],
      "metadata": {
        "id": "dQFfbj8eugPn"
      },
      "execution_count": null,
      "outputs": []
    },
    {
      "cell_type": "markdown",
      "source": [
        "5. Faça um Programa que converta metros para centímetros."
      ],
      "metadata": {
        "id": "dMWePumZBQwQ"
      }
    },
    {
      "cell_type": "code",
      "source": [
        "valor_metro = int(input('Insira o valor em metros: '))\n",
        "valor_cm = valor_metro * 100\n",
        "print('O valor em centímetros é', valor_cm,'cm')"
      ],
      "metadata": {
        "colab": {
          "base_uri": "https://localhost:8080/"
        },
        "id": "EDA0Fpk9BSUP",
        "outputId": "2d39e0a0-31b5-49ff-b02b-7a23406c7aae"
      },
      "execution_count": 13,
      "outputs": [
        {
          "output_type": "stream",
          "name": "stdout",
          "text": [
            "Insira o valor em metros: 10\n",
            "O valor em centímetros é 1000 cm\n"
          ]
        }
      ]
    },
    {
      "cell_type": "markdown",
      "source": [
        "6. Faça um Programa que peça o raio de um círculo, calcule e mostre sua área."
      ],
      "metadata": {
        "id": "lCkXJ-FwDJOB"
      }
    },
    {
      "cell_type": "code",
      "source": [
        "import math\n",
        "\n",
        "r = int(input('Insira o valor do raio do círculo: '))\n",
        "pi = math.pi\n",
        "a = pi*(r**2)\n",
        "print('A área do círculo é',a, 'm²')"
      ],
      "metadata": {
        "colab": {
          "base_uri": "https://localhost:8080/"
        },
        "id": "0HYuG2_wCjMB",
        "outputId": "274f0f26-ec44-4018-e6e6-57ee18df09ae"
      },
      "execution_count": 17,
      "outputs": [
        {
          "output_type": "stream",
          "name": "stdout",
          "text": [
            "Insira o valor do raio do círculo: 2\n",
            "A área do círculo é 12.566370614359172 m²\n"
          ]
        }
      ]
    },
    {
      "cell_type": "code",
      "source": [
        ""
      ],
      "metadata": {
        "id": "JScv2SegDd_A"
      },
      "execution_count": null,
      "outputs": []
    }
  ]
}