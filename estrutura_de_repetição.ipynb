{
  "nbformat": 4,
  "nbformat_minor": 0,
  "metadata": {
    "colab": {
      "name": "estrutura-de-repetição.ipynb",
      "provenance": [],
      "authorship_tag": "ABX9TyNvFfgJNwngIcX14qJ3fmth",
      "include_colab_link": true
    },
    "kernelspec": {
      "name": "python3",
      "display_name": "Python 3"
    },
    "language_info": {
      "name": "python"
    }
  },
  "cells": [
    {
      "cell_type": "markdown",
      "metadata": {
        "id": "view-in-github",
        "colab_type": "text"
      },
      "source": [
        "<a href=\"https://colab.research.google.com/github/ovelton/Lista-de-Exercicios-Python-Brasil/blob/main/estrutura_de_repeti%C3%A7%C3%A3o.ipynb\" target=\"_parent\"><img src=\"https://colab.research.google.com/assets/colab-badge.svg\" alt=\"Open In Colab\"/></a>"
      ]
    },
    {
      "cell_type": "markdown",
      "source": [
        "1. Faça um programa que peça uma nota, entre zero e dez. Mostre uma mensagem caso o valor seja inválido e continue pedindo até que o usuário informe um valor válido."
      ],
      "metadata": {
        "id": "FtCDQxBYPM0D"
      }
    },
    {
      "cell_type": "code",
      "execution_count": null,
      "metadata": {
        "id": "1f3gaQKmO6n5"
      },
      "outputs": [],
      "source": [
        "while True:\n",
        "  try:\n",
        "    num = int(input('Insira um número entre zero e dez: '))\n",
        "\n",
        "  except ValueError:\n",
        "    print('Deve ser inserido um valor inteiro!')\n",
        "  else:\n",
        "    if 0 <= num <=10:\n",
        "      print(f'O número informado é {num}')\n",
        "      break\n",
        "    else:\n",
        "      print('Digite um número entre zero e dez')"
      ]
    },
    {
      "cell_type": "markdown",
      "source": [
        "4. Supondo que a população de um país A seja da ordem de 80000 habitantes com uma taxa anual de crescimento de 3% e que a população de B seja 200000 habitantes com uma taxa de crescimento de 1.5%. Faça um programa que calcule e escreva o número de anos necessários para que a população do país A ultrapasse ou iguale a população do país B, mantidas as taxas de crescimento."
      ],
      "metadata": {
        "id": "Lr-GeNJcFjOB"
      }
    },
    {
      "cell_type": "code",
      "source": [
        "pop_a = 80_000\n",
        "cresc_a = 1.03\n",
        "pop_b = 200_000\n",
        "cresc_b = 1.015\n",
        "ano = 0\n",
        "\n",
        "while pop_a < pop_b:\n",
        "  pop_a = int(pop_a*cresc_a)\n",
        "  pop_b = int(pop_b*cresc_b)\n",
        "  ano += 1\n",
        "\n",
        "print(f'A População A vai ultrapassar a População B no {ano}º ano com {pop_a} habitantes, enquanto a População B terá {pop_b} habitantes')"
      ],
      "metadata": {
        "id": "_mmAezEPL25E"
      },
      "execution_count": null,
      "outputs": []
    },
    {
      "cell_type": "markdown",
      "source": [
        "7. Faça um programa que leia 5 números e informe o maior número."
      ],
      "metadata": {
        "id": "h5ipBosBwTHF"
      }
    },
    {
      "cell_type": "code",
      "source": [
        "lista = [4, 7, 2, 16, 8, 98, 1, 9, 1]\n",
        "i = 0\n",
        "\n",
        "for n in lista:\n",
        "  if n > i:\n",
        "    i = n\n",
        "    print(n,i)\n",
        "print(i)"
      ],
      "metadata": {
        "id": "IduWZS5hwouv"
      },
      "execution_count": null,
      "outputs": []
    },
    {
      "cell_type": "code",
      "source": [
        "maximo = float(input('Digite um número: '))\n",
        "\n",
        "for _ in range(4): # _ é usado quando não será utilizado a váriavel do for loop\n",
        "  maximo = max(maximo, float(input('Digite um número:')))\n",
        "  print(maximo)\n",
        "\n",
        "#The max() function returns the largest item in an iterable. It can also be used to find the largest item between two or more parameters."
      ],
      "metadata": {
        "id": "cCxVjob4w4Tm"
      },
      "execution_count": null,
      "outputs": []
    },
    {
      "cell_type": "markdown",
      "source": [
        "8. Faça um programa que leia 5 números e informe a soma e a média dos números."
      ],
      "metadata": {
        "id": "sH1h_cLH-Z3H"
      }
    },
    {
      "cell_type": "code",
      "source": [
        "lista = [4, 7, 2, 16, 8, 98, 1, 9, 1]\n",
        "i = 0\n",
        "\n",
        "for n in lista:\n",
        "  i = i + n\n",
        "print(i)\n",
        "media = i / len(lista)\n",
        "resultado = round(media)\n",
        "print(resultado)"
      ],
      "metadata": {
        "id": "2g5XCdEX-dRZ"
      },
      "execution_count": null,
      "outputs": []
    },
    {
      "cell_type": "code",
      "source": [
        "soma = float(input('Digite um número: '))\n",
        "\n",
        "for n in range(2, 6):\n",
        "  soma += float(input('Digite um número: '))\n",
        "  media = soma / n\n",
        "  print(f'A soma dos números é {soma} e a média dos números é {media}')"
      ],
      "metadata": {
        "colab": {
          "base_uri": "https://localhost:8080/"
        },
        "id": "-fF3Cq20_BYS",
        "outputId": "91c663dd-879d-44b4-9a9e-571f0c3a1d0d"
      },
      "execution_count": 57,
      "outputs": [
        {
          "output_type": "stream",
          "name": "stdout",
          "text": [
            "Digite um número: 1\n",
            "Digite um número: 4\n",
            "A soma dos números é 5.0 e a média dos números é 2.5\n",
            "Digite um número: 2\n",
            "A soma dos números é 7.0 e a média dos números é 2.3333333333333335\n",
            "Digite um número: 3\n",
            "A soma dos números é 10.0 e a média dos números é 2.5\n",
            "Digite um número: 5\n",
            "A soma dos números é 15.0 e a média dos números é 3.0\n"
          ]
        }
      ]
    },
    {
      "cell_type": "code",
      "source": [
        "6\n"
      ],
      "metadata": {
        "id": "VOOODlPnCF75"
      },
      "execution_count": null,
      "outputs": []
    }
  ]
}