{
  "nbformat": 4,
  "nbformat_minor": 0,
  "metadata": {
    "colab": {
      "name": "estrutura-de-repetição.ipynb",
      "provenance": [],
      "authorship_tag": "ABX9TyNxbJhyfYDuE0Qt19I0sBPo",
      "include_colab_link": true
    },
    "kernelspec": {
      "name": "python3",
      "display_name": "Python 3"
    },
    "language_info": {
      "name": "python"
    }
  },
  "cells": [
    {
      "cell_type": "markdown",
      "metadata": {
        "id": "view-in-github",
        "colab_type": "text"
      },
      "source": [
        "<a href=\"https://colab.research.google.com/github/ovelton/Lista-de-Exercicios-Python-Brasil/blob/main/estrutura_de_repeti%C3%A7%C3%A3o.ipynb\" target=\"_parent\"><img src=\"https://colab.research.google.com/assets/colab-badge.svg\" alt=\"Open In Colab\"/></a>"
      ]
    },
    {
      "cell_type": "markdown",
      "source": [
        "1. Faça um programa que peça uma nota, entre zero e dez. Mostre uma mensagem caso o valor seja inválido e continue pedindo até que o usuário informe um valor válido."
      ],
      "metadata": {
        "id": "FtCDQxBYPM0D"
      }
    },
    {
      "cell_type": "code",
      "execution_count": null,
      "metadata": {
        "id": "1f3gaQKmO6n5"
      },
      "outputs": [],
      "source": [
        "while True:\n",
        "  try:\n",
        "    num = int(input('Insira um número entre zero e dez: '))\n",
        "\n",
        "  except ValueError:\n",
        "    print('Deve ser inserido um valor inteiro!')\n",
        "  else:\n",
        "    if 0 <= num <=10:\n",
        "      print(f'O número informado é {num}')\n",
        "      break\n",
        "    else:\n",
        "      print('Digite um número entre zero e dez')"
      ]
    },
    {
      "cell_type": "code",
      "source": [
        ""
      ],
      "metadata": {
        "id": "W7yRC-2HQwJD"
      },
      "execution_count": null,
      "outputs": []
    }
  ]
}