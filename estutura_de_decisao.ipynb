{
  "nbformat": 4,
  "nbformat_minor": 0,
  "metadata": {
    "colab": {
      "name": "estutura-de-decisao.ipynb",
      "provenance": [],
      "authorship_tag": "ABX9TyN2NxmkgPpH4iGcNWljYwde",
      "include_colab_link": true
    },
    "kernelspec": {
      "name": "python3",
      "display_name": "Python 3"
    },
    "language_info": {
      "name": "python"
    }
  },
  "cells": [
    {
      "cell_type": "markdown",
      "metadata": {
        "id": "view-in-github",
        "colab_type": "text"
      },
      "source": [
        "<a href=\"https://colab.research.google.com/github/ovelton/Lista-de-Exercicios-Python-Brasil/blob/main/estutura_de_decisao.ipynb\" target=\"_parent\"><img src=\"https://colab.research.google.com/assets/colab-badge.svg\" alt=\"Open In Colab\"/></a>"
      ]
    },
    {
      "cell_type": "markdown",
      "source": [
        "##Estrutura de Decisão"
      ],
      "metadata": {
        "id": "qpyN03QMr8Rj"
      }
    },
    {
      "cell_type": "markdown",
      "source": [
        "1. Faça um Programa que peça dois números e imprima o maior deles."
      ],
      "metadata": {
        "id": "hnK83fD6sFrm"
      }
    },
    {
      "cell_type": "code",
      "execution_count": 4,
      "metadata": {
        "colab": {
          "base_uri": "https://localhost:8080/"
        },
        "id": "K4DZ1fLWrnPJ",
        "outputId": "62cec68c-1116-4a21-ba27-14659b3a0e0e"
      },
      "outputs": [
        {
          "output_type": "stream",
          "name": "stdout",
          "text": [
            "Digite o primeiro número: 23\n",
            "Digite o segundo número: 54\n",
            "O maior número é 54\n"
          ]
        }
      ],
      "source": [
        "num1 = int(input('Digite o primeiro número: '))\n",
        "num2 = int(input('Digite o segundo número: '))\n",
        "\n",
        "if num1 > num2:\n",
        "  print(f'O maior número é {num1}')\n",
        "else:\n",
        "  print(f'O maior número é {num2}')"
      ]
    },
    {
      "cell_type": "code",
      "source": [
        ""
      ],
      "metadata": {
        "id": "IgJJtJghr7-3"
      },
      "execution_count": null,
      "outputs": []
    }
  ]
}