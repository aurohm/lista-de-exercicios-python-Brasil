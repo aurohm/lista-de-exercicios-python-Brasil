{
  "nbformat": 4,
  "nbformat_minor": 0,
  "metadata": {
    "colab": {
      "name": "estutura-de-decisao.ipynb",
      "provenance": [],
      "authorship_tag": "ABX9TyNPfIIQhaaKM081+E0IZULl",
      "include_colab_link": true
    },
    "kernelspec": {
      "name": "python3",
      "display_name": "Python 3"
    },
    "language_info": {
      "name": "python"
    }
  },
  "cells": [
    {
      "cell_type": "markdown",
      "metadata": {
        "id": "view-in-github",
        "colab_type": "text"
      },
      "source": [
        "<a href=\"https://colab.research.google.com/github/ovelton/Lista-de-Exercicios-Python-Brasil/blob/main/estutura_de_decisao.ipynb\" target=\"_parent\"><img src=\"https://colab.research.google.com/assets/colab-badge.svg\" alt=\"Open In Colab\"/></a>"
      ]
    },
    {
      "cell_type": "markdown",
      "source": [
        "##Estrutura de Decisão"
      ],
      "metadata": {
        "id": "qpyN03QMr8Rj"
      }
    },
    {
      "cell_type": "markdown",
      "source": [
        "1. Faça um Programa que peça dois números e imprima o maior deles."
      ],
      "metadata": {
        "id": "hnK83fD6sFrm"
      }
    },
    {
      "cell_type": "code",
      "execution_count": null,
      "metadata": {
        "id": "K4DZ1fLWrnPJ"
      },
      "outputs": [],
      "source": [
        "num1 = int(input('Digite o primeiro número: '))\n",
        "num2 = int(input('Digite o segundo número: '))\n",
        "\n",
        "if num1 > num2:\n",
        "  print(f'O maior número é {num1}')\n",
        "else:\n",
        "  print(f'O maior número é {num2}')"
      ]
    },
    {
      "cell_type": "markdown",
      "source": [
        "2. Faça um Programa que peça um valor e mostre na tela se o valor é positivo ou negativo."
      ],
      "metadata": {
        "id": "xBkB0nsaubvR"
      }
    },
    {
      "cell_type": "code",
      "source": [
        "num = int(input('Digite um número: '))\n",
        "\n",
        "if num > 0:\n",
        "  print(f'O número {num} é positivo')\n",
        "else:\n",
        "  print(f'O número {num} é negativo')"
      ],
      "metadata": {
        "id": "IgJJtJghr7-3"
      },
      "execution_count": null,
      "outputs": []
    },
    {
      "cell_type": "markdown",
      "source": [
        "3. Faça um Programa que verifique se uma letra digitada é \"F\" ou \"M\". Conforme a letra escrever: F - Feminino, M - Masculino, Sexo Inválido."
      ],
      "metadata": {
        "id": "HBXD5heBwFtQ"
      }
    },
    {
      "cell_type": "code",
      "source": [
        "print('Qual é o seu sexo?')\n",
        "\n",
        "sexo = input(\"Digite M para masculino e F para feminino: \").upper()\n",
        "\n",
        "if sexo == 'M':\n",
        "  print(\"M - Masculino\")\n",
        "elif sexo == 'F':\n",
        "  print('F - Feminino')\n",
        "else:\n",
        "  print('Sexo inváldo')"
      ],
      "metadata": {
        "id": "izZYVgoDu3mv"
      },
      "execution_count": null,
      "outputs": []
    },
    {
      "cell_type": "markdown",
      "source": [
        "5. Faça um programa para a leitura de duas notas parciais de um aluno. O programa deve calcular a média alcançada por aluno e apresentar:\n",
        "\n",
        "• A mensagem \"Aprovado\", se a média alcançada for maior ou igual a sete;\n",
        "\n",
        "• A mensagem \"Reprovado\", se a média for menor do que sete;\n",
        "\n",
        "• A mensagem \"Aprovado com Distinção\", se a média for igual a dez."
      ],
      "metadata": {
        "id": "_2eR8ss-GyAL"
      }
    },
    {
      "cell_type": "code",
      "source": [
        "nota_1 = float(input('Insira a primeira média: '))\n",
        "nota_2 = float(input('Insira a segunda média: '))\n",
        "\n",
        "media = (nota_1 + nota_2)/2\n",
        "print(f'Sua média foi {media}')\n",
        "\n",
        "if media == 10.0:\n",
        "  print('Aprovado com Distinção')\n",
        "elif media >= 7.0:\n",
        "  print('Aprovado')\n",
        "else:\n",
        "  print('Reprovado')"
      ],
      "metadata": {
        "id": "3b5U9mbaxjfM"
      },
      "execution_count": null,
      "outputs": []
    },
    {
      "cell_type": "markdown",
      "source": [
        "19. Faça um Programa que leia um número inteiro menor que 1000 e imprima a quantidade de centenas, dezenas e unidades do mesmo.\n",
        "Observando os termos no plural a colocação do \"e\", da vírgula entre outros. Exemplo:\n",
        "\n",
        "326 = 3 centenas, 2 dezenas e 6 unidades\n",
        "12 = 1 dezena e 2 unidades Testar com: 326, 300, 100, 320, 310,305, 301, 101, 311, 111, 25, 20, 10, 21, 11, 1, 7 e 16"
      ],
      "metadata": {
        "id": "jv_89nu0URHw"
      }
    },
    {
      "cell_type": "code",
      "source": [
        "numero = 999\n",
        "centenas_str = dezenas_str = unidades_str = ''\n",
        "\"\"\"\"\"criar uma variável para receber as partes númericas - 3 partes num. (100 \n",
        "até 999) incrementar a cada vez que uma parte númerica é identificada concatenar\n",
        "as strings\"\"\"\n",
        "partes_numericas = 0\n",
        "\n",
        "#bloco da centena - definicação se é em singular ou plural\n",
        "centenas_int, numero = divmod(numero, 100) #função divmode(numerador,denominador)\n",
        "if centenas_int == 1:\n",
        "  centenas_str = '1 centena' #incrementa +1 sempre que uma parte do n. é idenfificada\n",
        "  partes_numericas +=1\n",
        "elif centenas_int > 1:\n",
        "  centenas_str = f'{centenas_int} centenas'\n",
        "  partes_numericas +=1\n",
        "\n",
        "#bloco da dezena - definição se é em singular ou plural\n",
        "dezenas_int, numero = divmod(numero, 10)\n",
        "if dezenas_int == 1:\n",
        "  dezenas_str = '1 dezena'\n",
        "  partes_numericas +=1\n",
        "elif dezenas_int > 1:\n",
        "  dezenas_str = f'{dezenas_int} dezenas'\n",
        "  partes_numericas +=1\n",
        "\n",
        "#bloco da unidade - definição se é em singular ou plural\n",
        "if numero == 1:\n",
        "  unidades_str = '1 unidade'\n",
        "  partes_numericas +=1\n",
        "elif numero > 1:\n",
        "  unidades_str = f'{numero} unidades'\n",
        "  partes_numericas +=1\n",
        "\n",
        "#formatação para o usuário final\n",
        "if partes_numericas == 0: #caso seja o número 0\n",
        "  print(f'Número 0 não possui dezenas, centenas ou unidades')\n",
        "elif partes_numericas == 1: #caso seja somente uma parte númerica\n",
        "  print(centenas_str + dezenas_str + unidades_str)\n",
        "elif partes_numericas == 3: #caso seja as três partes númericas\n",
        "  print(f'{centenas_str}, {dezenas_str} e {unidades_str}')\n",
        "else:\n",
        "  if centenas_str != '': #se a parte da centena não estiver vazia\n",
        "    outra_parte = dezenas_str + unidades_str #concatena a str dezena e unidade\n",
        "    print(f'{centenas_str} e {outra_parte}')\n",
        "  else: #dezenas_str != '':\n",
        "    print(f'{dezenas_str} e {unidades_str}')"
      ],
      "metadata": {
        "id": "sjNbsmQPUOxH"
      },
      "execution_count": null,
      "outputs": []
    },
    {
      "cell_type": "markdown",
      "source": [
        "21. Faça um Programa para um caixa eletrônico. O programa deverá perguntar ao usuário a valor do saque e depois informar quantas notas de cada valor serão fornecidas. As notas disponíveis serão as de 1, 5, 10, 50 e 100 reais. O valor mínimo é de 10 reais e o máximo de 600 reais. O programa não deve se preocupar com a quantidade de notas existentes na máquina.\n",
        "\n",
        "Exemplo 1: Para sacar a quantia de 256 reais, o programa fornece duas notas de 100, uma nota de 50, uma nota de 5 e uma nota de 1;\n",
        "Exemplo 2: Para sacar a quantia de 399 reais, o programa fornece três notas de 100, uma nota de 50, quatro notas de 10, uma nota de 5 e quatro notas de 1.\n"
      ],
      "metadata": {
        "id": "ZwOFb7IKjwUZ"
      }
    },
    {
      "cell_type": "code",
      "source": [
        "v_saque = int(input('Insira o valor a ser sacado: '))\n",
        "if v_saque < 10:\n",
        "  v_saque = 0\n",
        "  print('O valor mínimo de saque é de R$10,00')\n",
        "elif v_saque > 600:\n",
        "  v_saque = 0\n",
        "  print('O valor máximo de saque é de R$600,00')\n",
        "\n",
        "nota_1 = nota_5 = nota_10 = nota_50 = nota_100 = 0\n",
        "\n",
        "nota_100, v_saque = divmod(v_saque,100)\n",
        "nota_50, v_saque = divmod(v_saque,50)\n",
        "nota_10, v_saque = divmod(v_saque,10)\n",
        "nota_5, v_saque = divmod(v_saque,5)\n",
        "nota_1 = v_saque\n",
        "\n",
        "if nota_100 > 0:\n",
        "  print(f'{nota_100} nota(s) de R$100,00')\n",
        "\n",
        "if nota_50 > 0:\n",
        "  print(f'{nota_50} nota(s) de R$50,00')\n",
        "\n",
        "if nota_50 > 0:\n",
        "  print(f'{nota_50} nota(s) de R$50,00')\n",
        "\n",
        "if nota_10 > 0:\n",
        "  print(f'{nota_10} nota(s) de R$10,00')\n",
        "\n",
        "if nota_5 > 0:\n",
        "  print(f'{nota_5} nota(s) de R$5,00')\n",
        "\n",
        "if nota_1 > 0:\n",
        "  print(f'{nota_1} nota(s) de R$1,00')"
      ],
      "metadata": {
        "id": "BB5p49bGjugd"
      },
      "execution_count": null,
      "outputs": []
    },
    {
      "cell_type": "code",
      "source": [
        ""
      ],
      "metadata": {
        "id": "Np3Kz0R3xsRL"
      },
      "execution_count": 79,
      "outputs": []
    }
  ]
}