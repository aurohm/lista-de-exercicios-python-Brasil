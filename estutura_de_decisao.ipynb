{
  "nbformat": 4,
  "nbformat_minor": 0,
  "metadata": {
    "colab": {
      "name": "estutura-de-decisao.ipynb",
      "provenance": [],
      "authorship_tag": "ABX9TyP6iyXL8drLHkwwmsxF7V7G",
      "include_colab_link": true
    },
    "kernelspec": {
      "name": "python3",
      "display_name": "Python 3"
    },
    "language_info": {
      "name": "python"
    }
  },
  "cells": [
    {
      "cell_type": "markdown",
      "metadata": {
        "id": "view-in-github",
        "colab_type": "text"
      },
      "source": [
        "<a href=\"https://colab.research.google.com/github/ovelton/Lista-de-Exercicios-Python-Brasil/blob/main/estutura_de_decisao.ipynb\" target=\"_parent\"><img src=\"https://colab.research.google.com/assets/colab-badge.svg\" alt=\"Open In Colab\"/></a>"
      ]
    },
    {
      "cell_type": "markdown",
      "source": [
        "##Estrutura de Decisão"
      ],
      "metadata": {
        "id": "qpyN03QMr8Rj"
      }
    },
    {
      "cell_type": "markdown",
      "source": [
        "1. Faça um Programa que peça dois números e imprima o maior deles."
      ],
      "metadata": {
        "id": "hnK83fD6sFrm"
      }
    },
    {
      "cell_type": "code",
      "execution_count": null,
      "metadata": {
        "id": "K4DZ1fLWrnPJ"
      },
      "outputs": [],
      "source": [
        "num1 = int(input('Digite o primeiro número: '))\n",
        "num2 = int(input('Digite o segundo número: '))\n",
        "\n",
        "if num1 > num2:\n",
        "  print(f'O maior número é {num1}')\n",
        "else:\n",
        "  print(f'O maior número é {num2}')"
      ]
    },
    {
      "cell_type": "markdown",
      "source": [
        "2. Faça um Programa que peça um valor e mostre na tela se o valor é positivo ou negativo."
      ],
      "metadata": {
        "id": "xBkB0nsaubvR"
      }
    },
    {
      "cell_type": "code",
      "source": [
        "num = int(input('Digite um número: '))\n",
        "\n",
        "if num > 0:\n",
        "  print(f'O número {num} é positivo')\n",
        "else:\n",
        "  print(f'O número {num} é negativo')"
      ],
      "metadata": {
        "id": "IgJJtJghr7-3"
      },
      "execution_count": null,
      "outputs": []
    },
    {
      "cell_type": "markdown",
      "source": [
        "3. Faça um Programa que verifique se uma letra digitada é \"F\" ou \"M\". Conforme a letra escrever: F - Feminino, M - Masculino, Sexo Inválido."
      ],
      "metadata": {
        "id": "HBXD5heBwFtQ"
      }
    },
    {
      "cell_type": "code",
      "source": [
        "print('Qual é o seu sexo?')\n",
        "\n",
        "sexo = input(\"Digite M para masculino e F para feminino: \").upper()\n",
        "\n",
        "if sexo == 'M':\n",
        "  print(\"M - Masculino\")\n",
        "elif sexo == 'F':\n",
        "  print('F - Feminino')\n",
        "else:\n",
        "  print('Sexo inváldo')"
      ],
      "metadata": {
        "id": "izZYVgoDu3mv"
      },
      "execution_count": null,
      "outputs": []
    },
    {
      "cell_type": "markdown",
      "source": [
        "5. Faça um programa para a leitura de duas notas parciais de um aluno. O programa deve calcular a média alcançada por aluno e apresentar:\n",
        "\n",
        "• A mensagem \"Aprovado\", se a média alcançada for maior ou igual a sete;\n",
        "\n",
        "• A mensagem \"Reprovado\", se a média for menor do que sete;\n",
        "\n",
        "• A mensagem \"Aprovado com Distinção\", se a média for igual a dez."
      ],
      "metadata": {
        "id": "_2eR8ss-GyAL"
      }
    },
    {
      "cell_type": "code",
      "source": [
        "nota_1 = float(input('Insira a primeira média: '))\n",
        "nota_2 = float(input('Insira a segunda média: '))\n",
        "\n",
        "media = (nota_1 + nota_2)/2\n",
        "print(f'Sua média foi {media}')\n",
        "\n",
        "if media == 10.0:\n",
        "  print('Aprovado com Distinção')\n",
        "elif media >= 7.0:\n",
        "  print('Aprovado')\n",
        "else:\n",
        "  print('Reprovado')"
      ],
      "metadata": {
        "colab": {
          "base_uri": "https://localhost:8080/"
        },
        "id": "3b5U9mbaxjfM",
        "outputId": "cb63bafe-eeaf-4a68-fc76-312f5dcbdd60"
      },
      "execution_count": 16,
      "outputs": [
        {
          "output_type": "stream",
          "name": "stdout",
          "text": [
            "Insira a primeira média: 5\n",
            "Insira a segunda média: 10\n",
            "Sua média foi 7.5\n",
            "Aprovado\n"
          ]
        }
      ]
    },
    {
      "cell_type": "code",
      "source": [
        ""
      ],
      "metadata": {
        "id": "OlgdOVVSK6eB"
      },
      "execution_count": 9,
      "outputs": []
    }
  ]
}