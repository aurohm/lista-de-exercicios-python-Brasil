{
  "nbformat": 4,
  "nbformat_minor": 0,
  "metadata": {
    "colab": {
      "name": "exercicios-com-strings",
      "provenance": [],
      "authorship_tag": "ABX9TyNrSloZmmdllkaMQkX3R+da",
      "include_colab_link": true
    },
    "kernelspec": {
      "name": "python3",
      "display_name": "Python 3"
    },
    "language_info": {
      "name": "python"
    }
  },
  "cells": [
    {
      "cell_type": "markdown",
      "metadata": {
        "id": "view-in-github",
        "colab_type": "text"
      },
      "source": [
        "<a href=\"https://colab.research.google.com/github/ovelton/Lista-de-Exercicios-Python-Brasil/blob/main/exercicios_com_strings.ipynb\" target=\"_parent\"><img src=\"https://colab.research.google.com/assets/colab-badge.svg\" alt=\"Open In Colab\"/></a>"
      ]
    },
    {
      "cell_type": "markdown",
      "source": [
        "1. Tamanho de strings. Faça um programa que leia 2 strings e informe o conteúdo delas seguido do seu comprimento. Informe também se as duas strings possuem o mesmo comprimento e são iguais ou diferentes no conteúdo.\n",
        "\n",
        "![imagem_2022-01-30_170043.png](data:image/png;base64,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)"
      ],
      "metadata": {
        "id": "50kPlaLQyZOf"
      }
    },
    {
      "cell_type": "code",
      "execution_count": null,
      "metadata": {
        "id": "ocJ5AzG6yLzd"
      },
      "outputs": [],
      "source": [
        "# SOLUÇÃO 1\n",
        "\n",
        "string_1 = 'Brasil Hexa 2006'\n",
        "string_2 = 'Brasil! Hexa 2006!'\n",
        "\n",
        "tamanho_string_1 = len(string_1)\n",
        "tamanho_string_2 = len(string_2)\n",
        "\n",
        "print(f'Tamanho de \\\"Brasil Hexa 2006\\\": {tamanho_string_1} caracteres')\n",
        "print(f'Tamanho de \\\"Brasil! Hexa 2006!\\\": {tamanho_string_2} caracteres')\n",
        "\n",
        "if len(string_1) == len(string_2):\n",
        "  print('As duas strings são do mesmo tamanho.')\n",
        "else:\n",
        "  print('As duas strings são de tamanhos diferentes')\n",
        "\n",
        "new_string_1 = string_1.split()\n",
        "new_string_2 = string_2.split()\n",
        "n = 0\n",
        "comparar_1 = 0\n",
        "comparar_2 = 0\n",
        "\n",
        "for palavra in new_string_1:\n",
        "  if palavra == new_string_2[n]:\n",
        "    comparar_1 += 1    \n",
        "  else:\n",
        "    comparar_2 += 1\n",
        "  n += 1\n",
        "\n",
        "if comparar_1 == comparar_2:\n",
        "  print('As duas strings possuem o mesmo conteúdo.')\n",
        "else:\n",
        "  print('As duas strings possuem conteúdos diferentes.')"
      ]
    },
    {
      "cell_type": "code",
      "source": [
        "# SOLUÇÃO 2\n",
        "\n",
        "string_1 = 'Brasil Hexa 2006'\n",
        "string_2 = 'Brasil! Hexa 2006!'\n",
        "\n",
        "tamanho_string_1 = len(string_1)\n",
        "tamanho_string_2 = len(string_2)\n",
        "\n",
        "print(f'Tamanho de \\\"Brasil Hexa 2006\\\": {tamanho_string_1} caracteres')\n",
        "print(f'Tamanho de \\\"Brasil! Hexa 2006!\\\": {tamanho_string_2} caracteres')\n",
        "\n",
        "if len(string_1) == len(string_2):\n",
        "  print('As duas strings são do mesmo tamanho.')\n",
        "else:\n",
        "  print('As duas strings são de tamanhos diferentes')\n",
        "\n",
        "new_string_1 = string_1.split()\n",
        "new_string_2 = string_2.split()\n",
        "\n",
        "if new_string_1 == new_string_2:\n",
        "  print('As duas strings possuem o mesmo conteúdo.')\n",
        "else:\n",
        "  print('As duas strings possuem conteúdos diferentes.')"
      ],
      "metadata": {
        "id": "JikP6PfPzBM2"
      },
      "execution_count": null,
      "outputs": []
    },
    {
      "cell_type": "code",
      "source": [
        "# SOLUÇÃO 3\n",
        "\n",
        "string_1 = 'Brasil Hexa 2006'\n",
        "string_2 = 'Brasil! Hexa 2006!'\n",
        "\n",
        "tamanho_string_1 = len(string_1)\n",
        "tamanho_string_2 = len(string_2)\n",
        "\n",
        "print(f'Tamanho de \\\"Brasil Hexa 2006\\\": {tamanho_string_1} caracteres')\n",
        "print(f'Tamanho de \\\"Brasil! Hexa 2006!\\\": {tamanho_string_2} caracteres')\n",
        "\n",
        "if len(string_1) == len(string_2):\n",
        "  print('As duas strings são do mesmo tamanho.')\n",
        "else:\n",
        "  print('As duas strings são de tamanhos diferentes')\n",
        "\n",
        "if string_1 == string_2:\n",
        "  print('As duas strings possuem o mesmo conteúdo.')\n",
        "else:\n",
        "  print('As duas strings possuem conteúdos diferentes.')"
      ],
      "metadata": {
        "id": "YFopNsYYJoVO"
      },
      "execution_count": null,
      "outputs": []
    },
    {
      "cell_type": "markdown",
      "source": [
        "2. Nome ao contrário em maiúsculas. Faça um programa que permita ao usuário digitar o seu nome e em seguida mostre o nome do usuário de trás para frente utilizando somente letras maiúsculas. Dica: lembre−se que ao informar o nome o usuário pode digitar letras maiúsculas ou minúsculas.\n",
        "\n"
      ],
      "metadata": {
        "id": "kAbekOp_TuRV"
      }
    },
    {
      "cell_type": "code",
      "source": [
        "# SOLUÇÃO 1\n",
        "\n",
        "nome = input('Digite o seu nome: ')\n",
        "nome_ao_contrario = nome[::-1]\n",
        "print(nome_ao_contrario.upper())"
      ],
      "metadata": {
        "id": "5bnAdoJRT1bf"
      },
      "execution_count": null,
      "outputs": []
    },
    {
      "cell_type": "code",
      "source": [
        "# SOLUÇÃO 2\n",
        "\n",
        "nome = input('Digite o seu nome: ').upper()\n",
        "nome_ao_contrario = ''.join(reversed(nome))\n",
        "print(nome_ao_contrario)"
      ],
      "metadata": {
        "id": "N5WyDfMbWHnA"
      },
      "execution_count": null,
      "outputs": []
    },
    {
      "cell_type": "code",
      "source": [
        "# SOLUÇÃO 3\n",
        "\n",
        "nome = 'Wellivelton de Moura Pereira'.upper()\n",
        "nome_invertido = ' '.join(reversed(nome.split()))\n",
        "print(nome_invertido)"
      ],
      "metadata": {
        "id": "9grXghBmheRN"
      },
      "execution_count": null,
      "outputs": []
    },
    {
      "cell_type": "code",
      "source": [
        "# SOLUÇÃO 4\n",
        "\n",
        "nome = 'Wellivelton de Moura Pereira'.upper()\n",
        "nome_invertido = list(reversed(nome.split()))\n",
        "\n",
        "for palavra in nome_invertido:\n",
        "  print(palavra, end=' ')"
      ],
      "metadata": {
        "id": "jr8g2OMvhoHD"
      },
      "execution_count": null,
      "outputs": []
    },
    {
      "cell_type": "markdown",
      "source": [
        "11. Jogo de Forca. Desenvolva um jogo da forca. O programa terá uma lista de palavras lidas de um arquivo texto e escolherá uma aleatoriamente. O jogador poderá errar 6 vezes antes de ser enforcado.\n",
        "\n",
        "![image.png](data:image/png;base64,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)"
      ],
      "metadata": {
        "id": "pAdjFcsMiShl"
      }
    },
    {
      "cell_type": "code",
      "source": [
        "palavra = 'python'.upper()\n",
        "\n",
        "print('Jogo da Forca')\n",
        "print('Descubra a palvra')\n",
        "\n",
        "print('A palavra é: ', end='')\n",
        "\n",
        "for letra in palavra:\n",
        "  print(f'_ ', end='')\n",
        "\n",
        "#print('\\n')\n",
        "conjunto_letras_palavra = set(palavra)\n",
        "#print(conjunto_letras_palavra)\n",
        "#print('O' in conjunto_letras_palavra)\n",
        "#print('Z' in conjunto_letras_palavra)\n",
        "conjunto_letras_digitadas = set()\n",
        "#print(conjunto_letras_palavra.issubset(conjunto_letras_digitadas)) conjunto de letras da palavra é um subjconjunto de letras digitadas\n",
        "#print(conjunto_letras_digitadas.issubset(conjunto_letras_palavra)) conjunto de letras digitadas (vazio) é um subconjuto de letras da palavra\n",
        "erros = 0\n",
        "\n",
        "print('\\n')\n",
        "print('\\n')\n",
        "\n",
        "while (conjunto_letras_digitadas.issubset(conjunto_letras_palavra)) or erros < 7:\n",
        "  letra_digitada = (input('Digite uma letra: ')).upper()\n",
        "  conjunto_letras_digitadas.add(letra_digitada)\n",
        "  if letra_digitada in conjunto_letras_palavra:\n",
        "    print('A palavra é: ', end='')\n",
        "    for letra in palavra:\n",
        "      if letra in conjunto_letras_digitadas:\n",
        "        print(f'{letra} ', end='')\n",
        "      else:\n",
        "        print('_ ', end='')\n",
        "    print()\n",
        "  else:\n",
        "    erros += 1\n",
        "    print(f'Você errou pela {erros}a vez de 6 chances, tente de novo')\n",
        "    \n",
        "print()\n",
        "print('Letras já digitadas: ', conjunto_letras_digitadas)\n",
        "\n",
        "if erros < 7:\n",
        "  print('Parabéns, você venceu!')\n",
        "else:\n",
        "  print('Você perdeu!')"
      ],
      "metadata": {
        "id": "GJjKS_Sdib8a"
      },
      "execution_count": null,
      "outputs": []
    }
  ]
}