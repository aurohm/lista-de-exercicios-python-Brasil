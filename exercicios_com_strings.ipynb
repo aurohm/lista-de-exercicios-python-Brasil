{
  "nbformat": 4,
  "nbformat_minor": 0,
  "metadata": {
    "colab": {
      "name": "exercicios-com-strings",
      "provenance": [],
      "authorship_tag": "ABX9TyP3zFtZBmNjHBaD+U0lurZN",
      "include_colab_link": true
    },
    "kernelspec": {
      "name": "python3",
      "display_name": "Python 3"
    },
    "language_info": {
      "name": "python"
    }
  },
  "cells": [
    {
      "cell_type": "markdown",
      "metadata": {
        "id": "view-in-github",
        "colab_type": "text"
      },
      "source": [
        "<a href=\"https://colab.research.google.com/github/ovelton/Lista-de-Exercicios-Python-Brasil/blob/main/exercicios_com_strings.ipynb\" target=\"_parent\"><img src=\"https://colab.research.google.com/assets/colab-badge.svg\" alt=\"Open In Colab\"/></a>"
      ]
    },
    {
      "cell_type": "markdown",
      "source": [
        "1. Tamanho de strings. Faça um programa que leia 2 strings e informe o conteúdo delas seguido do seu comprimento. Informe também se as duas strings possuem o mesmo comprimento e são iguais ou diferentes no conteúdo.\n",
        "\n",
        "![imagem_2022-01-30_170043.png](data:image/png;base64,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)"
      ],
      "metadata": {
        "id": "50kPlaLQyZOf"
      }
    },
    {
      "cell_type": "code",
      "execution_count": null,
      "metadata": {
        "id": "ocJ5AzG6yLzd"
      },
      "outputs": [],
      "source": [
        "string_1 = 'Brasil Hexa 2006'\n",
        "string_2 = 'Brasil! Hexa 2006!'\n",
        "\n",
        "tamanho_string_1 = len(string_1)\n",
        "tamanho_string_2 = len(string_2)\n",
        "\n",
        "print(f'Tamanho de \\\"Brasil Hexa 2006\\\": {tamanho_string_1} caracteres')\n",
        "print(f'Tamanho de \\\"Brasil! Hexa 2006!\\\": {tamanho_string_2} caracteres')\n",
        "\n",
        "if len(string_1) == len(string_2):\n",
        "  print('As duas strings são do mesmo tamanho.')\n",
        "else:\n",
        "  print('As duas strings são de tamanhos diferentes')\n",
        "\n",
        "new_string_1 = string_1.split()\n",
        "new_string_2 = string_2.split()\n",
        "n = 0\n",
        "comparar_1 = 0\n",
        "comparar_2 = 0\n",
        "\n",
        "for palavra in new_string_1:\n",
        "  if palavra == new_string_2[n]:\n",
        "    comparar_1 += 1    \n",
        "  else:\n",
        "    comparar_2 += 1\n",
        "  n += 1\n",
        "\n",
        "if comparar_1 == comparar_2:\n",
        "  print('As duas strings possuem o mesmo conteúdo.')\n",
        "else:\n",
        "  print('As duas strings possuem conteúdos diferentes.')"
      ]
    },
    {
      "cell_type": "code",
      "source": [
        "string_1 = 'Brasil Hexa 2006'\n",
        "string_2 = 'Brasil! Hexa 2006!'\n",
        "\n",
        "tamanho_string_1 = len(string_1)\n",
        "tamanho_string_2 = len(string_2)\n",
        "\n",
        "print(f'Tamanho de \\\"Brasil Hexa 2006\\\": {tamanho_string_1} caracteres')\n",
        "print(f'Tamanho de \\\"Brasil! Hexa 2006!\\\": {tamanho_string_2} caracteres')\n",
        "\n",
        "if len(string_1) == len(string_2):\n",
        "  print('As duas strings são do mesmo tamanho.')\n",
        "else:\n",
        "  print('As duas strings são de tamanhos diferentes')\n",
        "\n",
        "new_string_1 = string_1.split()\n",
        "new_string_2 = string_2.split()\n",
        "\n",
        "if new_string_1 == new_string_2:\n",
        "  print('As duas strings possuem o mesmo conteúdo.')\n",
        "else:\n",
        "  print('As duas strings possuem conteúdos diferentes.')"
      ],
      "metadata": {
        "id": "JikP6PfPzBM2"
      },
      "execution_count": null,
      "outputs": []
    },
    {
      "cell_type": "code",
      "source": [
        "string_1 = 'Brasil Hexa 2006'\n",
        "string_2 = 'Brasil! Hexa 2006!'\n",
        "\n",
        "tamanho_string_1 = len(string_1)\n",
        "tamanho_string_2 = len(string_2)\n",
        "\n",
        "print(f'Tamanho de \\\"Brasil Hexa 2006\\\": {tamanho_string_1} caracteres')\n",
        "print(f'Tamanho de \\\"Brasil! Hexa 2006!\\\": {tamanho_string_2} caracteres')\n",
        "\n",
        "if len(string_1) == len(string_2):\n",
        "  print('As duas strings são do mesmo tamanho.')\n",
        "else:\n",
        "  print('As duas strings são de tamanhos diferentes')\n",
        "\n",
        "if string_1 == string_2:\n",
        "  print('As duas strings possuem o mesmo conteúdo.')\n",
        "else:\n",
        "  print('As duas strings possuem conteúdos diferentes.')"
      ],
      "metadata": {
        "id": "YFopNsYYJoVO"
      },
      "execution_count": null,
      "outputs": []
    },
    {
      "cell_type": "markdown",
      "source": [
        "2. Nome ao contrário em maiúsculas. Faça um programa que permita ao usuário digitar o seu nome e em seguida mostre o nome do usuário de trás para frente utilizando somente letras maiúsculas. Dica: lembre−se que ao informar o nome o usuário pode digitar letras maiúsculas ou minúsculas.\n",
        "\n"
      ],
      "metadata": {
        "id": "kAbekOp_TuRV"
      }
    },
    {
      "cell_type": "code",
      "source": [
        "nome = input('Digite o seu nome: ')\n",
        "\n",
        "nome_ao_contrario = nome[::-1]\n",
        "\n",
        "print(nome_ao_contrario.upper())"
      ],
      "metadata": {
        "id": "5bnAdoJRT1bf"
      },
      "execution_count": null,
      "outputs": []
    },
    {
      "cell_type": "code",
      "source": [
        "nome = input('Digite o seu nome: ').upper()\n",
        "\n",
        "nome_ao_contrario = ''.join(reversed(nome))\n",
        "\n",
        "print(nome_ao_contrario)"
      ],
      "metadata": {
        "id": "N5WyDfMbWHnA"
      },
      "execution_count": null,
      "outputs": []
    },
    {
      "cell_type": "code",
      "source": [
        "nome = 'Wellivelton de Moura Pereira'.upper()\n",
        "nome_invertido = ' '.join(reversed(nome.split()))\n",
        "print(nome_invertido)"
      ],
      "metadata": {
        "id": "9grXghBmheRN"
      },
      "execution_count": null,
      "outputs": []
    },
    {
      "cell_type": "code",
      "source": [
        "nome = 'Wellivelton de Moura Pereira'.upper()\n",
        "nome_invertido = list(reversed(nome.split()))\n",
        "\n",
        "for palavra in nome_invertido:\n",
        "  print(palavra, end=' ')"
      ],
      "metadata": {
        "id": "jr8g2OMvhoHD"
      },
      "execution_count": null,
      "outputs": []
    },
    {
      "cell_type": "code",
      "source": [
        ""
      ],
      "metadata": {
        "id": "lHYsbykyhvmy"
      },
      "execution_count": null,
      "outputs": []
    }
  ]
}