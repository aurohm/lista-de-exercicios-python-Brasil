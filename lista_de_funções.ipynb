{
  "nbformat": 4,
  "nbformat_minor": 0,
  "metadata": {
    "colab": {
      "name": "lista-de-funções.ipynb",
      "provenance": [],
      "authorship_tag": "ABX9TyPKLQu+zSzIfPuM17kb4gv/",
      "include_colab_link": true
    },
    "kernelspec": {
      "name": "python3",
      "display_name": "Python 3"
    },
    "language_info": {
      "name": "python"
    }
  },
  "cells": [
    {
      "cell_type": "markdown",
      "metadata": {
        "id": "view-in-github",
        "colab_type": "text"
      },
      "source": [
        "<a href=\"https://colab.research.google.com/github/ovelton/Lista-de-Exercicios-Python-Brasil/blob/main/lista_de_fun%C3%A7%C3%B5es.ipynb\" target=\"_parent\"><img src=\"https://colab.research.google.com/assets/colab-badge.svg\" alt=\"Open In Colab\"/></a>"
      ]
    },
    {
      "cell_type": "markdown",
      "source": [
        "1. Faça um programa para imprimir:\n",
        "\n",
        "![image.png](data:image/png;base64,iVBORw0KGgoAAAANSUhEUgAAAWYAAACMCAYAAABPjgNGAAADLUlEQVR4nO3dUU7bQBRA0bRiZ163F8UK3J8iBRUSlab4vsk5n5E/npVwNRosz4/jOI4LABk/zx4AgPeEGSBGmAFihBkgRpgBYoQZIEaYAWKEGSBGmAFihBkgRpgBYoQZIEaYAWKEGSBGmAFiXu5d8Pr6+h1zAPCbFTNAjDADxAgzQIwwA8QIM0DM+DBv23b2CAAPdfdxuSpBBlY1dsW87/tl3/ezxwB4uLFhBliVMAPECDNAjDADxAgzQMyP4ziOWxcU3y5361E5T2oA040MM8DKbGUAxAgzQIwwA8QIM0CMMAPECDNAjDADxAgzQIwwA8QIM0CMMAPECDNAzDKHsZ79VrnaPMBcI8O8bdsf4fvos2edB5jNVgZAzBLvY66tTmvzALOMXzHXIlibB5hndJhrEazNA8w0Nsy1CNbmAeYaGebPnoI4S20eYLaRj8tdLr3w1eYB5lriqQyAlYzcygBYmTADxAgzQIwwA8QIM0CMMAPECDNAjDADxAgzQIwwA8QIM0CMMAPECDNAzDKv/Tz7JfXmAR5lZJg/ezH9WfExD/BII7cyaoExD/BII8MMsLKRWxnX3vZSK6tE8wD/apmjpWp7qOYBvspWBkDMyDDXTqQ2D/BIY7cyas/pmgd4lLFhBljVyK0MgJUJM0CMMAPECDNAjDADxAgzQIwwA8QIM0CMMAPECDNAjDADxAgzQIwwA8QIM0CMMAPECDNAjDADxAgzQIwwA8SMDvO2bXdPhK5dA3DP6DADrMgp2QAxVswAMcIMECPMADHCDBAjzAAxwgwQI8wAMcIMECPMADHCDBAjzAAxwgwQI8wAMcIMECPMADHCDBDzcvYAX/F2fNO+7++Octr33TzmMc8gz3zvt4w9weT6C73+rPDHZR7zTJ/nOz3zvX9m9FZG7Yszz23mua02z3d65nv/yOgwA6xImOEJbdv2bk/3f17D3xsZ5rcfwvUP4qPPzGMe87Q9873fMvaffwCrGrliBliZMAPECDNAjDADxAgzQIwwA8TcfVwOgO9lxQwQI8wAMcIMECPMADHCDBAjzAAxwgwQI8wAMcIMECPMADHCDBDzC3tOUUDjXNu9AAAAAElFTkSuQmCC)\n",
        "\n",
        "para um n informado pelo usuário. Use uma função que receba um valor n inteiro e imprima até a n-ésima linha.\n",
        "\n",
        "\n",
        "\n"
      ],
      "metadata": {
        "id": "nXWsuKciiHkB"
      }
    },
    {
      "cell_type": "code",
      "execution_count": 50,
      "metadata": {
        "id": "YAEz10t_h5Cw"
      },
      "outputs": [],
      "source": [
        "def imprimir_triangulo_de_numeros(n: int):\n",
        "  for i in range(1, n + 1):\n",
        "    for _ in range(i): # interando em cada i e cada i começa em 1\n",
        "      print(i, end = '   ')\n",
        "    print('\\n')"
      ]
    },
    {
      "cell_type": "code",
      "source": [
        "imprimir_triangulo_de_numeros(4)"
      ],
      "metadata": {
        "id": "elMYUQLTjmKK"
      },
      "execution_count": null,
      "outputs": []
    },
    {
      "cell_type": "markdown",
      "source": [
        "2. Faça um programa para imprimir:\n",
        "\n",
        "![imagem_2022-01-29_171042.png](data:image/png;base64,iVBORw0KGgoAAAANSUhEUgAAAPsAAACICAIAAACupgqeAAAC2UlEQVR4nO3dQWrbQABAUaf0Zjq3DpUTpAuBMXICLVQzg/57q5hAJNvf44mQRh9fX18PyPg1ewdgKMXTonhaFE+L4mlRPC2Kp0XxtCieFsXTonhaFE+L4mn5fXr8+fk5ZT9gDGM8LYqnRfG0KJ4WxdOySvHbts3eBRLORyfH0zojzR/j933f9332XlAxv3gYSfG0KJ4WxdOieFo+TutODj538ttDkw7dcJ3JxcNgZjW0KJ4WxdOieFoUT4viaVE8LYqnRfG0KJ4WxdOieFrmX9l92LZtwCmTr6dqOkOzaX7xw9YyOH2oxnzGWM38WY21DBhpfvHDGOB5pIp/kntZrni5x7WKlzuh4t+P1UzcGWaZfHTyNbvnz9cNwyrHWga0hGY18FA8NYqnRfG0KJ4WxdOieFoUT4viaVE8LYqnRfG0KJ6W+WsZHO63eoeVQtY0v/hbrt5hpZBlzZ/V3HL1jvs9o9uYX/wwBl0eK8xqxhuZ+zFn8+laR2iMPwwe3Y85m+tr19Eq3mSGUPEjV+8wqC9r8loG35Zx0TD8vq1Lx3vH49dk9Q5aQrMaeCieGsXTonhaFE+L4mlRPC2Kp0XxtCieFsXTonhaFE+L4mlRPC2Kp0XxtCieFsXTskTx27b9dPH/yF9RsETxMIy1DGgxxtOieFoUT4viaVE8LYqnRfG0KJ4WxdOieFoUT4viaVE8LavcwXjMfSdH3o3Mnc/WNL/4YddnvN/d8roQR26LfzJ/VnPc1Xr2Xvxn93tGtzF/jB/GoHup47t63/fnl/aar3Co+KeRuT87GLO5iY7WX1/bNYeV+bOawQa/DcecrXMt+YKJn7SKX3PUYaRQ8e/HTy7d1nV//KctWsvkb0yex7++3AP+4xn27p5mMoUvluP5PoeV08N1WL2DltCsBh6Kp0bxtCieFsXTonhazkcn4d6M8bQonhbF06J4WhRPi+JpUTwtiqdF8bT8AdJqCnUp8yPDAAAAAElFTkSuQmCC)\n",
        "\n",
        "para um n informado pelo usuário. Use uma função que receba um valor n inteiro imprima até a n-ésima linha.\n",
        "\n"
      ],
      "metadata": {
        "id": "3VuAkZaJrKei"
      }
    },
    {
      "cell_type": "code",
      "source": [
        " def imprimir_triangulo_de_numeros_crescentes(n: int):\n",
        "   for linha in range(1, n + 1):\n",
        "     for coluna in range(1, linha + 1):\n",
        "       print(coluna, end = '   ')\n",
        "     print('\\n')       "
      ],
      "metadata": {
        "id": "lJS2Ij-SjzP1"
      },
      "execution_count": 56,
      "outputs": []
    },
    {
      "cell_type": "code",
      "source": [
        "imprimir_triangulo_de_numeros_crescentes(10)"
      ],
      "metadata": {
        "id": "_pkPZIhLsPvF"
      },
      "execution_count": null,
      "outputs": []
    }
  ]
}