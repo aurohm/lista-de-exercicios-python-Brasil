{
  "nbformat": 4,
  "nbformat_minor": 0,
  "metadata": {
    "colab": {
      "name": "exercicios-com-listas.ipynb",
      "provenance": [],
      "authorship_tag": "ABX9TyMPtd4/aOVQjR67cJHdxnV0",
      "include_colab_link": true
    },
    "kernelspec": {
      "name": "python3",
      "display_name": "Python 3"
    },
    "language_info": {
      "name": "python"
    }
  },
  "cells": [
    {
      "cell_type": "markdown",
      "metadata": {
        "id": "view-in-github",
        "colab_type": "text"
      },
      "source": [
        "<a href=\"https://colab.research.google.com/github/ovelton/Lista-de-Exercicios-Python-Brasil/blob/main/exercicios_com_listas.ipynb\" target=\"_parent\"><img src=\"https://colab.research.google.com/assets/colab-badge.svg\" alt=\"Open In Colab\"/></a>"
      ]
    },
    {
      "cell_type": "markdown",
      "source": [
        "1. Faça um Programa que leia um vetor de 5 números inteiros e mostre-os."
      ],
      "metadata": {
        "id": "RCmvckEVD4Dz"
      }
    },
    {
      "cell_type": "code",
      "execution_count": null,
      "metadata": {
        "id": "8h8C_tK8DxNv"
      },
      "outputs": [],
      "source": [
        "lista = []\n",
        "for i in range(1,6):\n",
        "  lista.append(i)\n",
        "print(lista)"
      ]
    },
    {
      "cell_type": "code",
      "source": [
        "lista = []\n",
        "for _ in range(5):\n",
        "  num = lista.append(float(input('Digite um número: ')))\n",
        "  #lista.append(num)\n",
        "print(lista)"
      ],
      "metadata": {
        "id": "-0i3y_NvEYt1"
      },
      "execution_count": null,
      "outputs": []
    },
    {
      "cell_type": "code",
      "source": [
        "dir(list)"
      ],
      "metadata": {
        "id": "KYc4N8v0FueF"
      },
      "execution_count": null,
      "outputs": []
    },
    {
      "cell_type": "markdown",
      "source": [
        "2. Faça um Programa que leia um vetor de 10 números reais e mostre-os na ordem inversa.\n"
      ],
      "metadata": {
        "id": "MkmMsIuBHEDG"
      }
    },
    {
      "cell_type": "code",
      "source": [
        "lista = []\n",
        "for _ in range(10):\n",
        "  num = float(input('Digite um número: '))\n",
        "  lista.append(num)\n",
        "print(lista)\n",
        "lista.reverse()\n",
        "print(lista)"
      ],
      "metadata": {
        "id": "yZdTLK6IG_Ay"
      },
      "execution_count": null,
      "outputs": []
    },
    {
      "cell_type": "markdown",
      "source": [
        "15. Faça um programa que leia um número indeterminado de valores, correspondentes a notas, encerrando a entrada de dados quando for informado um valor igual a -1 (que não deve ser armazenado). Após esta entrada de dados, faça:\n",
        "\n",
        "a) Mostre a quantidade de valores que foram lidos;\n",
        "\n",
        "b) Exiba todos os valores na ordem em que foram informados, um ao lado do outro;\n",
        "\n",
        "c) Exiba todos os valores na ordem inversa à que foram informados, um abaixo do outro;\n",
        "\n",
        "d) Calcule e mostre a soma dos valores;\n",
        "\n",
        "e) Calcule e mostre a média dos valores;\n",
        "\n",
        "f) Calcule e mostre a quantidade de valores acima da média calculada;\n",
        "\n",
        "g) Calcule e mostre a quantidade de valores abaixo de sete;\n",
        "\n",
        "h) Encerre o programa com uma mensagem;"
      ],
      "metadata": {
        "id": "w8kCkQQXJbTb"
      }
    },
    {
      "cell_type": "code",
      "source": [
        "notas = []\n",
        "nota = 0\n",
        "\n",
        "#while nota > - 1: # minha solução\n",
        "#  nota = float(input('Digite a nota: '))\n",
        "#  notas.append(nota)\n",
        "#notas.remove(-1)\n",
        "\n",
        "while True:\n",
        "  entrada = input('Digite a nota: ')\n",
        "  if entrada == '-1':\n",
        "    break\n",
        "  notas.append(float(entrada))\n",
        "\n",
        "print(f'A quantidade de valores informados foram de: {len(notas)} notas')\n",
        "\n",
        "print('\\n')\n",
        "\n",
        "print('Os valores na ordem em que foram informados foram são:')\n",
        "#for x in notas: # minha solução\n",
        "#  print(x,end=' ')\n",
        "\n",
        "print(', '.join([str(xnota) for xnota in notas])) # solução do renzo\n",
        "\n",
        "print('\\n')\n",
        "\n",
        "print('Os valores na ordem inversa á que foram informados são:')\n",
        "notas.reverse()\n",
        "for y in notas:\n",
        "  print(y)\n",
        "\n",
        "print('\\n')\n",
        "\n",
        "#notas.reverse() # minha solução\n",
        "#n = 0\n",
        "#for z in notas:\n",
        "#  n = n + z\n",
        "#print(n)\n",
        "#print(f'A soma dos valores é {n}')\n",
        "soma = sum(notas)\n",
        "print(f'A soma dos valores é {soma}')\n",
        "\n",
        "print('\\n')\n",
        "\n",
        "media = float(n / len(notas))\n",
        "print(f'A média dos valores é: {media}')\n",
        "\n",
        "print('\\n')\n",
        "\n",
        "#print('A quantidade de valores acima da média são:') # minha solução\n",
        "#nlista = []\n",
        "#for u in notas:\n",
        "#  if u > media:\n",
        "#    nlista.append(u)\n",
        "#print(len(nlista))\n",
        "print('Os valores acima da média são:')\n",
        "#for q in nlista:\n",
        "#  print(q,end=' ')\n",
        "print(', '.join([str(xnota) for xnota in notas if xnota > media]))\n",
        "\n",
        "print('\\n') \n",
        "\n",
        "#zlista = [] # minha solução\n",
        "#print('A quantidade de valores abaixo de sete:')\n",
        "#for r in notas:\n",
        "#  if r < 7:\n",
        "#    zlista.append(r)\n",
        "#print(len(zlista))\n",
        "print('Os valores abaixo de sete são:')\n",
        "#for t in zlista:\n",
        "#  print(t, end=' ')\n",
        "print(', '.join([str(xnota) for xnota in notas if xnota < 7]))\n",
        "\n",
        "\n",
        "print('\\n')\n",
        "\n",
        "print('O programa foi finalizado!')"
      ],
      "metadata": {
        "id": "dhq8dVpLJ2Wd"
      },
      "execution_count": null,
      "outputs": []
    },
    {
      "cell_type": "code",
      "source": [
        ""
      ],
      "metadata": {
        "id": "Ju2JOelUZjy4"
      },
      "execution_count": null,
      "outputs": []
    }
  ]
}