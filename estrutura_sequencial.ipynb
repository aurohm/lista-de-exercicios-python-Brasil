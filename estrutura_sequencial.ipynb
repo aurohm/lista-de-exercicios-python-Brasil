{
  "nbformat": 4,
  "nbformat_minor": 0,
  "metadata": {
    "colab": {
      "name": "estrutura-sequencial.ipynb",
      "provenance": [],
      "authorship_tag": "ABX9TyObLJo5yO/wyGjjzr3Vyw/h",
      "include_colab_link": true
    },
    "kernelspec": {
      "name": "python3",
      "display_name": "Python 3"
    },
    "language_info": {
      "name": "python"
    }
  },
  "cells": [
    {
      "cell_type": "markdown",
      "metadata": {
        "id": "view-in-github",
        "colab_type": "text"
      },
      "source": [
        "<a href=\"https://colab.research.google.com/github/ovelton/Lista-de-Exercicios-Python-Brasil/blob/main/estrutura_sequencial.ipynb\" target=\"_parent\"><img src=\"https://colab.research.google.com/assets/colab-badge.svg\" alt=\"Open In Colab\"/></a>"
      ]
    },
    {
      "cell_type": "markdown",
      "source": [
        "1. Faça um Programa que mostre a mensagem \"Alo mundo\" na tela.\n",
        " "
      ],
      "metadata": {
        "id": "G7r51RMEegGm"
      }
    },
    {
      "cell_type": "code",
      "source": [
        "print('Alo mundo')"
      ],
      "metadata": {
        "id": "iLa4t4gOefm-"
      },
      "execution_count": null,
      "outputs": []
    },
    {
      "cell_type": "markdown",
      "source": [
        "2. Faça um Programa que peça um número e então mostre a mensagem O número informado foi [número].\n"
      ],
      "metadata": {
        "id": "ZlCUBt6he3QA"
      }
    },
    {
      "cell_type": "code",
      "source": [
        "número = input('Digite um número: ')\n",
        "print(f'O número informado foi: {número}')"
      ],
      "metadata": {
        "id": "qCWCfMAneqHd"
      },
      "execution_count": null,
      "outputs": []
    },
    {
      "cell_type": "markdown",
      "source": [
        "3. Faça um Programa que peça dois números e imprima a soma."
      ],
      "metadata": {
        "id": "ERAxHTR_lnsW"
      }
    },
    {
      "cell_type": "code",
      "source": [
        "num1 = int(input('Digite o primeiro número: '))\n",
        "num2 = int(input('Digite o segundo número: '))\n",
        "soma = num1 + num2\n",
        "print(f'A soma dos dois números é {soma}')"
      ],
      "metadata": {
        "id": "rnWj-So0fXdG"
      },
      "execution_count": null,
      "outputs": []
    },
    {
      "cell_type": "markdown",
      "source": [
        "4. Faça um Programa que peça as 4 notas bimestrais e mostre a média."
      ],
      "metadata": {
        "id": "1D2RXfNSrFMR"
      }
    },
    {
      "cell_type": "code",
      "source": [
        "nota1 = int(input('Digite a nota do primeiro bimestre: '))\n",
        "nota2 = int(input('Digite a nota do segundo bimestre: '))\n",
        "nota3 = int(input('Digite a nota do terceiro bimestre: '))\n",
        "nota4 = int(input('Digite a nota do quarto bimestre: '))\n",
        "soma = nota1 + nota2 + nota3 + nota4\n",
        "media = soma / 4\n",
        "print(f'A média é {media}')"
      ],
      "metadata": {
        "id": "XGHI8ddfrHa_"
      },
      "execution_count": null,
      "outputs": []
    },
    {
      "cell_type": "markdown",
      "source": [
        "5. Faça um Programa que converta metros para centímetros."
      ],
      "metadata": {
        "id": "dMWePumZBQwQ"
      }
    },
    {
      "cell_type": "code",
      "source": [
        "valor_metro = int(input('Insira o valor em metros: '))\n",
        "valor_cm = valor_metro * 100\n",
        "print(f'O valor em centímetros é {valor_cm} cm')"
      ],
      "metadata": {
        "id": "EDA0Fpk9BSUP"
      },
      "execution_count": null,
      "outputs": []
    },
    {
      "cell_type": "markdown",
      "source": [
        "6. Faça um Programa que peça o raio de um círculo, calcule e mostre sua área."
      ],
      "metadata": {
        "id": "lCkXJ-FwDJOB"
      }
    },
    {
      "cell_type": "code",
      "source": [
        "import math\n",
        "\n",
        "r = int(input('Insira o valor do raio do círculo: '))\n",
        "pi = math.pi\n",
        "a = pi*(r**2)\n",
        "print(f'A área do círculo é {a} m²')"
      ],
      "metadata": {
        "id": "0HYuG2_wCjMB"
      },
      "execution_count": null,
      "outputs": []
    },
    {
      "cell_type": "markdown",
      "source": [
        "7. Faça um Programa que calcule a área de um quadrado, em seguida mostre o dobro desta área para o usuário.\n"
      ],
      "metadata": {
        "id": "BJMI3K4Cg5mO"
      }
    },
    {
      "cell_type": "code",
      "source": [
        "L = int(input('Insira o valora do lado do quadrado: '))\n",
        "A = L*L\n",
        "print(f'O dobro da área do quadrado é { A*2}')\n"
      ],
      "metadata": {
        "id": "w_dvTG81g7c0"
      },
      "execution_count": null,
      "outputs": []
    },
    {
      "cell_type": "markdown",
      "source": [
        "8. Faça um Programa que pergunte quanto você ganha por hora e o número de horas trabalhadas no mês. Calcule e mostre o total do seu salário no referido mês.\n"
      ],
      "metadata": {
        "id": "7Osn2uZSqait"
      }
    },
    {
      "cell_type": "code",
      "source": [
        "sal = int(input('Valor recebido por hora: '))\n",
        "hmes = int(input('Horas trabalhada por mês: '))\n",
        "salmes = sal*hmes\n",
        "print(f'O seu salário no mês é de R${salmes}')"
      ],
      "metadata": {
        "id": "WNezUjbuqcGg"
      },
      "execution_count": null,
      "outputs": []
    },
    {
      "cell_type": "markdown",
      "source": [
        "9. Faça um Programa que peça a temperatura em graus Fahrenheit, transforme e mostre a temperatura em graus Celsius. C = 5 * ((F-32) / 9).\n"
      ],
      "metadata": {
        "id": "emlPFe_PQmVG"
      }
    },
    {
      "cell_type": "code",
      "source": [
        "F = int(input('Insira a temperatura em graus Fahrenheit: '))\n",
        "C = 5 * ((F - 32) / 9)\n",
        "print(f'A temperatura em graus Fahrenheit é {C}')"
      ],
      "metadata": {
        "id": "q2O59kJMr-bj"
      },
      "execution_count": null,
      "outputs": []
    },
    {
      "cell_type": "markdown",
      "source": [
        "10. Faça um Programa que peça a temperatura em graus Celsius, transforme e mostre em graus Fahrenheit."
      ],
      "metadata": {
        "id": "4QW44tJhdCWs"
      }
    },
    {
      "cell_type": "code",
      "source": [
        "C = int(input('Insira a temperatura em graus Celsius: '))\n",
        "F = (C*(9/5)) + 32\n",
        "print(f'A temperatura em graus Fahrenheit é {F}')"
      ],
      "metadata": {
        "id": "YuMqqvwmRC-f",
        "colab": {
          "base_uri": "https://localhost:8080/"
        },
        "outputId": "21b21d36-46ef-41c8-e9de-b31d64f07fd0"
      },
      "execution_count": null,
      "outputs": [
        {
          "output_type": "stream",
          "name": "stdout",
          "text": [
            "Insira a temperatura em graus Celsius: 50\n",
            "A temperatura em graus Fahrenheit é 122.0\n"
          ]
        }
      ]
    },
    {
      "cell_type": "markdown",
      "source": [
        "11. Faça um Programa que peça 2 números inteiros e um número real. Calcule e mostre:\n",
        "\n",
        "a) o produto do dobro do primeiro com metade do segundo.\n",
        "\n",
        "b) a soma do triplo do primeiro com o terceiro."
      ],
      "metadata": {
        "id": "guLftVdAVLsU"
      }
    },
    {
      "cell_type": "code",
      "source": [
        "numero_1 = int(input('Digite o primeiro inteiro: '))\n",
        "numero_2 = int(input('Digite o segundo número: '))\n",
        "numero_3 = float(input('Digite o terceiro número: '))\n",
        "\n",
        "resultado_a = (numero_1**2)*(numero_2/2)\n",
        "print(f'O produto do dobro do primeiro com metade do segundo é {resultado_a}')\n",
        "\n",
        "resultado_b = (numero_1**3) + numero_3\n",
        "print(f'A soma do tripo do primeiro com o terceiro é {resultado_b}')"
      ],
      "metadata": {
        "id": "bS7k6B7oeK98"
      },
      "execution_count": null,
      "outputs": []
    },
    {
      "cell_type": "markdown",
      "source": [
        "12. Tendo como dados de entrada a altura de uma pessoa, construa um algoritmo que calcule seu peso ideal, usando a seguinte fórmula: (72.7*altura) - 58"
      ],
      "metadata": {
        "id": "893qZ4mTX0UX"
      }
    },
    {
      "cell_type": "code",
      "source": [
        "altura = float(input('Insira a sua altura: '))\n",
        "resultado = (72.7*altura) - 58\n",
        "\n",
        "print(f'O seu peso ideial é de {resultado}')"
      ],
      "metadata": {
        "id": "4DtuZ2taXQ2C"
      },
      "execution_count": null,
      "outputs": []
    },
    {
      "cell_type": "markdown",
      "source": [
        "13. Tendo como dado de entrada a altura (h) de uma pessoa, construa um algoritmo que calcule seu peso ideal, utilizando as seguintes fórmulas:\n",
        "\n",
        "a) Para homens: (72.7*h) - 58\n",
        "\n",
        "b) Para mulheres: (62.1*h) - 44.7"
      ],
      "metadata": {
        "id": "j7p8YJT2ERxc"
      }
    },
    {
      "cell_type": "code",
      "source": [
        "altura = float(input('Insira a sua altura: '))\n",
        "resultado_de_homem = (72.7*altura) - 58\n",
        "resultado_de_mulher = (62.1*altura) - 44.7\n",
        "\n",
        "print(f'O seu peso ideial para homens é de {resultado_de_homem}')\n",
        "print(f'O seu peso ideial para homens é de {resultado_de_mulher}')"
      ],
      "metadata": {
        "id": "31qZSXFFEcBI"
      },
      "execution_count": null,
      "outputs": []
    },
    {
      "cell_type": "markdown",
      "source": [
        "14. João Papo-de-Pescador, homem de bem, comprou um microcomputador para controlar o rendimento diário de seu trabalho. Toda vez que ele traz um peso de peixes maior que o estabelecido pelo regulamento de pesca do estado de São Paulo (50 quilos) deve pagar uma multa de R$ 4,00 por quilo excedente. João precisa que você faça um programa que leia a variável peso (peso de peixes) e calcule o excesso. Gravar na variável excesso a quantidade de quilos além do limite e na variável multa o valor da multa que João deverá pagar. Imprima os dados do programa com as mensagens adequadas."
      ],
      "metadata": {
        "id": "61ZHj2WVE7_x"
      }
    },
    {
      "cell_type": "code",
      "source": [
        "peso_de_peixes = float(input('Digite o valor correspondente ao peso dos peixes: '))\n",
        "calculo_1 = peso_de_peixes - 50\n",
        "excesso = round(calculo_1, 2)\n",
        "\n",
        "if peso_de_peixes >= 51.00:\n",
        "  multa = int(excesso) * 4.00\n",
        "  multa = round(multa, 2)\n",
        "  print(f'Com o excedente de {excesso} kg, será necessário pagar uma multa de R${multa}')\n",
        "else:\n",
        "  print('O peso de peixes está no limite estabelicido pelo regulamento de pesca do estado de São Paulo')"
      ],
      "metadata": {
        "id": "s_lu4nFXE_K-"
      },
      "execution_count": null,
      "outputs": []
    },
    {
      "cell_type": "markdown",
      "source": [
        "15. Faça um Programa que pergunte quanto você ganha por hora e o número de horas trabalhadas no mês. Calcule e mostre o total do seu salário no referido mês, sabendo-se que são descontados 11% para o Imposto de Renda, 8% para o INSS e 5% para o sindicato, faça um programa que nos dê:\n",
        "\n",
        "a. salário bruto.\n",
        "\n",
        "b. quanto pagou ao INSS.\n",
        "\n",
        "c. quanto pagou ao sindicato.\n",
        "\n",
        "d. o salário líquido.\n",
        "\n",
        "e. calcule os descontos e o salário líquido, conforme a tabela abaixo\n",
        "\n",
        "\n",
        "```\n",
        " + Salário Bruto : R$\n",
        "- IR (11%) : R$\n",
        "- INSS (8%) : R$\n",
        "- Sindicato ( 5%) : R$\n",
        "= Salário Liquido : R$\n",
        "```\n",
        "Obs.: Salário Bruto - Descontos = Salário Líquido.\n"
      ],
      "metadata": {
        "id": "Eur1NbM8bLCJ"
      }
    },
    {
      "cell_type": "code",
      "source": [
        "valor_por_hora = float(input('Digite o quanto você ganha por hora: '))\n",
        "horas_trabalhadas = int(input('Digite a quantidade de horas por mês: '))\n",
        "ir = 0.11\n",
        "inss = 0.08\n",
        "sindicato = 0.05\n",
        "\n",
        "salario_bruto = valor_por_hora * horas_trabalhadas\n",
        "print(f'O seu salário bruto é de R${round(salario_bruto,2)}')\n",
        "\n",
        "pago_ao_inss = salario_bruto * inss\n",
        "print(f'O valor pago para o INSS é de R${round(pago_ao_inss,2)}')\n",
        "\n",
        "pago_ao_sindicato = salario_bruto * sindicato\n",
        "print(f'O valor pago para o sindicato é de R${round(pago_ao_sindicato,2)}')\n",
        "\n",
        "salario_liquido = salario_bruto - pago_ao_inss - pago_ao_sindicato\n",
        "print(f'O seu salário líquido é de R${round(salario_liquido,2)}')"
      ],
      "metadata": {
        "id": "bJ9pvSCmgtTQ"
      },
      "execution_count": null,
      "outputs": []
    },
    {
      "cell_type": "markdown",
      "source": [
        "16. Faça um programa para uma loja de tintas. O programa deverá pedir o tamanho em metros quadrados da área a ser pintada. Considere que a cobertura da tinta é de 1 litro para cada 3 metros quadrados e que a tinta é vendida em latas de 18 litros, que custam R$ 80,00. Informe ao usuário a quantidades de latas de tinta a serem compradas e o preço total."
      ],
      "metadata": {
        "id": "oJxFdPNkgZS9"
      }
    },
    {
      "cell_type": "code",
      "source": [
        "import math\n",
        "\n",
        "area_para_pintar = 58\n",
        "metros_por_litro = 3\n",
        "litros_por_lata = 18\n",
        "valor_por_lata = 80\n",
        "\n",
        "litros_necessario = area_para_pintar / metros_por_litro\n",
        "#print(round(litros_necessario,2))\n",
        "latas_por_litros = math.ceil(litros_necessario / litros_por_lata)\n",
        "#print(latas_por_litros)\n",
        "valor_total = latas_por_litros * valor_por_lata\n",
        "print(f'Será necessário utilizar {latas_por_litros} latas por R${valor_total}')"
      ],
      "metadata": {
        "id": "J1owWYCBgdBA"
      },
      "execution_count": null,
      "outputs": []
    },
    {
      "cell_type": "markdown",
      "source": [
        "17. Faça um Programa para uma loja de tintas. O programa deverá pedir o tamanho em metros quadrados da área a ser pintada. Considere que a cobertura da tinta é de 1 litro para cada 6 metros quadrados e que a tinta é vendida em latas de 18 litros, que custam R 80,00 ou em galões de 3,6 litros, que custam R 25,00.\n",
        "\n",
        "Informe ao usuário as quantidades de tinta a serem compradas e os respectivos preços em 3 situações:\n",
        "\n",
        "1. comprar apenas latas de 18 litros;\n",
        "\n",
        "2. comprar apenas galões de 3,6 litros;\n",
        "\n",
        "3. misturar latas e galões, de forma que o desperdício de tinta seja menor. Acrescente 10% de folga e sempre arredonde os valores para cima, isto é, considere latas cheias.\n"
      ],
      "metadata": {
        "id": "961XvVv0yGRY"
      }
    },
    {
      "cell_type": "code",
      "source": [
        "import math\n",
        "\n",
        "area_a_ser_pintada = 100\n",
        "area_com_folga = area_a_ser_pintada * 1.1\n",
        "litros_por_metro = 6\n",
        "litros_necessario_por_metro = area_com_folga / litros_por_metro\n",
        "\n",
        "\n",
        "litros_por_lata = 18\n",
        "valor_por_lata = 80\n",
        "\n",
        "litros_por_galao = 3.6\n",
        "valor_por_galao = 25\n",
        "\n",
        "# comprar apenas latas de 18 litros\n",
        "latas_por_litros = math.ceil(litros_necessario_por_metro / litros_por_lata)\n",
        "valor_total_de_latas = latas_por_litros * valor_por_lata\n",
        "print(f'Você deverá usar {latas_por_litros} latas de 18 litros por R${valor_total_de_latas} para pintar {area_a_ser_pintada}m²')\n",
        "\n",
        "print()\n",
        "\n",
        "# comprar apenas galões de 3,6 litros\n",
        "galoes_por_litros = math.ceil(litros_necessario_por_metro / litros_por_galao)\n",
        "valor_total_de_galoes = galoes_por_litros * valor_por_galao\n",
        "print(f'Você deverá usar {galoes_por_litros} galões de 3,6 litros por R${valor_total_de_galoes} para pintar {area_a_ser_pintada}m²')\n",
        "\n",
        "print()\n",
        "\n",
        "# comprar latas de 18 litros e galões de 3,6 litros\n",
        "#print(litros_necessario_por_metro, math.floor(litros_necessario_por_metro / litros_por_lata), math.ceil(litros_necessario_por_metro % litros_por_lata))\n",
        "latas_inteiras_por_litro = math.floor(litros_necessario_por_metro / litros_por_lata)\n",
        "galoes_inteiros_por_litro = math.ceil(litros_necessario_por_metro % litros_por_lata)\n",
        "valor_total_de_latas_e_galoes = (latas_inteiras_por_litro*valor_por_lata) + (galoes_inteiros_por_litro*valor_por_galao)\n",
        "print(f'Você deverá usar em conjunto {latas_inteiras_por_litro} latas e {galoes_inteiros_por_litro} galões por R${valor_total_de_latas_e_galoes} para pintar {area_a_ser_pintada}m²')"
      ],
      "metadata": {
        "id": "FGQfa8LdoASJ"
      },
      "execution_count": null,
      "outputs": []
    },
    {
      "cell_type": "markdown",
      "source": [
        "18. Faça um programa que peça o tamanho de um arquivo para download (em MB) e a velocidade de um link de Internet (em Mbps), calcule e informe o tempo aproximado de download do arquivo usando este link (em minutos).\n"
      ],
      "metadata": {
        "id": "CF1N99e8-DWb"
      }
    },
    {
      "cell_type": "code",
      "source": [
        "import math\n",
        "\n",
        "tamanho_do_arquivo_para_download = 20000 # MB\n",
        "velocidade_da_internet = 50 # Mbps\n",
        "velocidade_em_mb = velocidade_da_internet / 8\n",
        "\n",
        "tempo_em_segundos = (round(tamanho_do_arquivo_para_download/velocidade_em_mb,2))\n",
        "tempo_em_minutos = tempo_em_segundos / 60\n",
        "tempo_restante_em_segundos = tempo_em_segundos % 60\n",
        "\n",
        "#print(f'O arquivo será baixado em aproximadamente {math.floor(tempo_em_minutos)} minuto(s)')\n",
        "print(f'O arquivo será baixado em aproximadamente {math.floor(tempo_em_minutos)} minuto(s) e {tempo_restante_em_segundos} segundo(s)')"
      ],
      "metadata": {
        "id": "iKjJKV-F-FLF"
      },
      "execution_count": null,
      "outputs": []
    },
    {
      "cell_type": "code",
      "source": [
        ""
      ],
      "metadata": {
        "id": "GSHJKEnbPXMT"
      },
      "execution_count": null,
      "outputs": []
    }
  ]
}